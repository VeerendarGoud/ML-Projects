{
  "nbformat": 4,
  "nbformat_minor": 0,
  "metadata": {
    "colab": {
      "name": "Domain Specific Search Engine",
      "provenance": []
    },
    "kernelspec": {
      "name": "python3",
      "display_name": "Python 3"
    }
  },
  "cells": [
    {
      "cell_type": "code",
      "metadata": {
        "id": "cHPyo6lmq3vZ",
        "colab_type": "code",
        "colab": {}
      },
      "source": [
        "# tfidf intro"
      ],
      "execution_count": 0,
      "outputs": []
    },
    {
      "cell_type": "code",
      "metadata": {
        "id": "s-KsPLq-G0_0",
        "colab_type": "code",
        "colab": {
          "base_uri": "https://localhost:8080/",
          "height": 68
        },
        "outputId": "b0081f58-0105-423f-dfec-a118c6d69ab1"
      },
      "source": [
        "# imports \n",
        "import os\n",
        "import re \n",
        "import numpy as np\n",
        "import nltk\n",
        "nltk.download('punkt')"
      ],
      "execution_count": 105,
      "outputs": [
        {
          "output_type": "stream",
          "text": [
            "[nltk_data] Downloading package punkt to /root/nltk_data...\n",
            "[nltk_data]   Unzipping tokenizers/punkt.zip.\n"
          ],
          "name": "stdout"
        },
        {
          "output_type": "execute_result",
          "data": {
            "text/plain": [
              "True"
            ]
          },
          "metadata": {
            "tags": []
          },
          "execution_count": 105
        }
      ]
    },
    {
      "cell_type": "code",
      "metadata": {
        "id": "awnb_XjLIaXH",
        "colab_type": "code",
        "colab": {
          "base_uri": "https://localhost:8080/",
          "height": 34
        },
        "outputId": "c06f9ae4-4075-4775-90aa-d1d2d995ba7f"
      },
      "source": [
        "#nlp tools\n",
        "import spacy\n",
        "print('spaCy Version: %s' % (spacy.__version__))\n",
        "spacy_nlp = spacy.load('en_core_web_sm')"
      ],
      "execution_count": 79,
      "outputs": [
        {
          "output_type": "stream",
          "text": [
            "spaCy Version: 2.1.9\n"
          ],
          "name": "stdout"
        }
      ]
    },
    {
      "cell_type": "code",
      "metadata": {
        "id": "SxXELf2VOTa9",
        "colab_type": "code",
        "colab": {
          "base_uri": "https://localhost:8080/",
          "height": 139
        },
        "outputId": "29ebe629-594c-4387-c45f-4740b1bb9fd9"
      },
      "source": [
        "!pip install num2words"
      ],
      "execution_count": 90,
      "outputs": [
        {
          "output_type": "stream",
          "text": [
            "Collecting num2words\n",
            "\u001b[?25l  Downloading https://files.pythonhosted.org/packages/eb/a2/ea800689730732e27711c41beed4b2a129b34974435bdc450377ec407738/num2words-0.5.10-py3-none-any.whl (101kB)\n",
            "\r\u001b[K     |███▎                            | 10kB 15.1MB/s eta 0:00:01\r\u001b[K     |██████▌                         | 20kB 1.8MB/s eta 0:00:01\r\u001b[K     |█████████▊                      | 30kB 2.5MB/s eta 0:00:01\r\u001b[K     |█████████████                   | 40kB 1.7MB/s eta 0:00:01\r\u001b[K     |████████████████▏               | 51kB 2.1MB/s eta 0:00:01\r\u001b[K     |███████████████████▍            | 61kB 2.5MB/s eta 0:00:01\r\u001b[K     |██████████████████████▋         | 71kB 2.9MB/s eta 0:00:01\r\u001b[K     |█████████████████████████▉      | 81kB 3.2MB/s eta 0:00:01\r\u001b[K     |█████████████████████████████   | 92kB 2.5MB/s eta 0:00:01\r\u001b[K     |████████████████████████████████| 102kB 2.3MB/s \n",
            "\u001b[?25hRequirement already satisfied: docopt>=0.6.2 in /usr/local/lib/python3.6/dist-packages (from num2words) (0.6.2)\n",
            "Installing collected packages: num2words\n",
            "Successfully installed num2words-0.5.10\n"
          ],
          "name": "stdout"
        }
      ]
    },
    {
      "cell_type": "code",
      "metadata": {
        "id": "IV07ivxwLhVQ",
        "colab_type": "code",
        "colab": {}
      },
      "source": [
        "from nltk.corpus import stopwords\n",
        "from nltk.tokenize import word_tokenize\n",
        "from nltk.stem import PorterStemmer\n",
        "from collections import Counter\n",
        "from num2words import num2words"
      ],
      "execution_count": 0,
      "outputs": []
    },
    {
      "cell_type": "code",
      "metadata": {
        "id": "vCYsMWnUQR8_",
        "colab_type": "code",
        "colab": {}
      },
      "source": [
        "import nltk\n",
        "import os\n",
        "import string\n",
        "import numpy as np\n",
        "import copy\n",
        "import pandas as pd\n",
        "import pickle\n",
        "import re\n",
        "import math"
      ],
      "execution_count": 0,
      "outputs": []
    },
    {
      "cell_type": "code",
      "metadata": {
        "id": "mrUWWxyA2n3G",
        "colab_type": "code",
        "colab": {}
      },
      "source": [
        "title = \"stories\"\n",
        "alpha = 0.3"
      ],
      "execution_count": 0,
      "outputs": []
    },
    {
      "cell_type": "markdown",
      "metadata": {
        "id": "oAotGjgDrcBy",
        "colab_type": "text"
      },
      "source": [
        "### intro to tfidf and formulea"
      ]
    },
    {
      "cell_type": "markdown",
      "metadata": {
        "id": "ib-RteK6rlsj",
        "colab_type": "text"
      },
      "source": [
        "## Data"
      ]
    },
    {
      "cell_type": "code",
      "metadata": {
        "id": "83ozZ8d5HWPp",
        "colab_type": "code",
        "colab": {
          "base_uri": "https://localhost:8080/",
          "height": 34
        },
        "outputId": "7fac0778-f7b4-4cd0-fddc-550c7d8d9dfe"
      },
      "source": [
        "!ls"
      ],
      "execution_count": 69,
      "outputs": [
        {
          "output_type": "stream",
          "text": [
            "sample_data  stories  stories.zip  stories.zip.1\n"
          ],
          "name": "stdout"
        }
      ]
    },
    {
      "cell_type": "code",
      "metadata": {
        "id": "pWhe5NLDHWOG",
        "colab_type": "code",
        "colab": {}
      },
      "source": [
        "! rm stories.zip.1"
      ],
      "execution_count": 0,
      "outputs": []
    },
    {
      "cell_type": "code",
      "metadata": {
        "id": "wHLkMm9IrWZ9",
        "colab_type": "code",
        "colab": {}
      },
      "source": [
        "!wget http://archives.textfiles.com/stories.zip"
      ],
      "execution_count": 0,
      "outputs": []
    },
    {
      "cell_type": "code",
      "metadata": {
        "id": "hSxgoVRdsqop",
        "colab_type": "code",
        "colab": {}
      },
      "source": [
        "!unzip stories.zip"
      ],
      "execution_count": 0,
      "outputs": []
    },
    {
      "cell_type": "code",
      "metadata": {
        "id": "t364JIcZttd4",
        "colab_type": "code",
        "colab": {
          "base_uri": "https://localhost:8080/",
          "height": 34
        },
        "outputId": "767e53dd-351b-4fa8-aaa4-30f1801f96d3"
      },
      "source": [
        "!ls"
      ],
      "execution_count": 72,
      "outputs": [
        {
          "output_type": "stream",
          "text": [
            "sample_data  stories  stories.zip\n"
          ],
          "name": "stdout"
        }
      ]
    },
    {
      "cell_type": "code",
      "metadata": {
        "id": "aOkfJtQct6lF",
        "colab_type": "code",
        "colab": {}
      },
      "source": [
        ""
      ],
      "execution_count": 0,
      "outputs": []
    },
    {
      "cell_type": "code",
      "metadata": {
        "id": "G4O6TfXEuHGs",
        "colab_type": "code",
        "colab": {
          "base_uri": "https://localhost:8080/",
          "height": 34
        },
        "outputId": "1b1296da-9fe2-48b6-bcc3-e1093b63bb61"
      },
      "source": [
        "!pwd"
      ],
      "execution_count": 6,
      "outputs": [
        {
          "output_type": "stream",
          "text": [
            "/content\n"
          ],
          "name": "stdout"
        }
      ]
    },
    {
      "cell_type": "code",
      "metadata": {
        "id": "hMvcelvruYQg",
        "colab_type": "code",
        "colab": {}
      },
      "source": [
        "folders = [x[0] for x in os.walk(str(os.getcwd())+'/stories/')]"
      ],
      "execution_count": 0,
      "outputs": []
    },
    {
      "cell_type": "code",
      "metadata": {
        "id": "7H242iqkvgUg",
        "colab_type": "code",
        "colab": {
          "base_uri": "https://localhost:8080/",
          "height": 34
        },
        "outputId": "58a06708-3f75-4063-8ac5-f1b34ac657c2"
      },
      "source": [
        "folders"
      ],
      "execution_count": 74,
      "outputs": [
        {
          "output_type": "execute_result",
          "data": {
            "text/plain": [
              "['/content/stories/', '/content/stories/SRE', '/content/stories/FARNON']"
            ]
          },
          "metadata": {
            "tags": []
          },
          "execution_count": 74
        }
      ]
    },
    {
      "cell_type": "code",
      "metadata": {
        "id": "-7jO8Yo2v_0R",
        "colab_type": "code",
        "colab": {}
      },
      "source": [
        "folders = folders[:len(folders)-1]"
      ],
      "execution_count": 0,
      "outputs": []
    },
    {
      "cell_type": "code",
      "metadata": {
        "id": "jdzay7xUwgPK",
        "colab_type": "code",
        "colab": {
          "base_uri": "https://localhost:8080/",
          "height": 34
        },
        "outputId": "535535f7-88af-4b97-e55c-3c309724c04b"
      },
      "source": [
        "folders"
      ],
      "execution_count": 76,
      "outputs": [
        {
          "output_type": "execute_result",
          "data": {
            "text/plain": [
              "['/content/stories/', '/content/stories/SRE']"
            ]
          },
          "metadata": {
            "tags": []
          },
          "execution_count": 76
        }
      ]
    },
    {
      "cell_type": "code",
      "metadata": {
        "id": "qW-6g0u0wpGV",
        "colab_type": "code",
        "colab": {}
      },
      "source": [
        "dataset = []\n",
        "c = False\n",
        "for i in folders:\n",
        "  file = open(i+\"/index.html\",'r')\n",
        "  text = file.read().strip()\n",
        "  file.close()\n",
        "\n",
        "  file_name = re.findall('><A HREF=\"(.*)\">',text)\n",
        "  file_title = re.findall('<BR><TD> (.*)\\n',text)\n",
        "\n",
        "  if c == False:\n",
        "    file_name = file_name[2:]\n",
        "    c = True\n",
        "\n",
        "  for j in range(len(file_name)):\n",
        "    dataset.append((str(i) + '/'+str(file_name[j]), file_title[j]))"
      ],
      "execution_count": 0,
      "outputs": []
    },
    {
      "cell_type": "code",
      "metadata": {
        "id": "jzl8y8ufPMV-",
        "colab_type": "code",
        "colab": {
          "base_uri": "https://localhost:8080/",
          "height": 34
        },
        "outputId": "a587859b-3498-4493-c460-e3c3da42fbb2"
      },
      "source": [
        "N = len (dataset)\n",
        "N"
      ],
      "execution_count": 109,
      "outputs": [
        {
          "output_type": "execute_result",
          "data": {
            "text/plain": [
              "467"
            ]
          },
          "metadata": {
            "tags": []
          },
          "execution_count": 109
        }
      ]
    },
    {
      "cell_type": "code",
      "metadata": {
        "id": "uNeVZoHQPPJ1",
        "colab_type": "code",
        "colab": {}
      },
      "source": [
        "def print_doc(id):\n",
        "    print(dataset[id])\n",
        "    file = open(dataset[id][0], 'r', encoding='cp1250')\n",
        "    text = file.read().strip()\n",
        "    file.close()\n",
        "    print(text)"
      ],
      "execution_count": 0,
      "outputs": []
    },
    {
      "cell_type": "markdown",
      "metadata": {
        "id": "cBnnehr49XV3",
        "colab_type": "text"
      },
      "source": [
        "## Preprocessing"
      ]
    },
    {
      "cell_type": "code",
      "metadata": {
        "id": "NdaCwHQs0SbF",
        "colab_type": "code",
        "colab": {}
      },
      "source": [
        "def convert_lower_case(text):\n",
        "  new_text = np.char.lower(text)\n",
        "  return new_text\n"
      ],
      "execution_count": 0,
      "outputs": []
    },
    {
      "cell_type": "code",
      "metadata": {
        "id": "3fuY0HWAH_hU",
        "colab_type": "code",
        "colab": {}
      },
      "source": [
        "def remove_stop_words(text):\n",
        "  doc = spacy_nlp(str(text))\n",
        "  tokens = [token.text for token in doc if not token.is_stop]\n",
        "  new_data = ' '.join(tokens)\n",
        "  return new_data\n"
      ],
      "execution_count": 0,
      "outputs": []
    },
    {
      "cell_type": "code",
      "metadata": {
        "id": "CtD7_OeVJxKU",
        "colab_type": "code",
        "colab": {}
      },
      "source": [
        "def remove_punctuation(data):\n",
        "    symbols = \"!\\\"#$%&()*+-./:;<=>?@[\\]^_`{|}~\\n\"\n",
        "    for i in range(len(symbols)):\n",
        "        data = np.char.replace(data, symbols[i], ' ')\n",
        "        data = np.char.replace(data, \"  \", \" \")\n",
        "    data = np.char.replace(data, ',', '')\n",
        "    return data\n",
        "\n"
      ],
      "execution_count": 0,
      "outputs": []
    },
    {
      "cell_type": "code",
      "metadata": {
        "id": "C3VqV_kWLU0d",
        "colab_type": "code",
        "colab": {}
      },
      "source": [
        "def remove_apostrophe(data):\n",
        "    return np.char.replace(data, \"'\", \"\")"
      ],
      "execution_count": 0,
      "outputs": []
    },
    {
      "cell_type": "code",
      "metadata": {
        "id": "jN13cDIiLV_A",
        "colab_type": "code",
        "colab": {}
      },
      "source": [
        "def stemming(data):\n",
        "    stemmer= PorterStemmer()\n",
        "    \n",
        "    tokens = word_tokenize(str(data))\n",
        "    new_text = \"\"\n",
        "    for w in tokens:\n",
        "        new_text = new_text + \" \" + stemmer.stem(w)\n",
        "    return new_text"
      ],
      "execution_count": 0,
      "outputs": []
    },
    {
      "cell_type": "code",
      "metadata": {
        "id": "nw9Z659VLlkS",
        "colab_type": "code",
        "colab": {}
      },
      "source": [
        "def convert_numbers(data):\n",
        "    tokens = word_tokenize(str(data))\n",
        "    new_text = \"\"\n",
        "    for w in tokens:\n",
        "        try:\n",
        "            w = num2words(int(w))\n",
        "        except:\n",
        "            a = 0\n",
        "        new_text = new_text + \" \" + w\n",
        "    new_text = np.char.replace(new_text, \"-\", \" \")\n",
        "    return new_text"
      ],
      "execution_count": 0,
      "outputs": []
    },
    {
      "cell_type": "code",
      "metadata": {
        "id": "-U4bZlzSN2b1",
        "colab_type": "code",
        "colab": {}
      },
      "source": [
        "def preprocess(data):\n",
        "    data = convert_lower_case(data)\n",
        "    data = remove_punctuation(data) #remove comma seperately\n",
        "    data = remove_apostrophe(data)\n",
        "    data = remove_stop_words(data)\n",
        "    data = convert_numbers(data)\n",
        "    data = stemming(data)\n",
        "    data = remove_punctuation(data)\n",
        "    data = convert_numbers(data)\n",
        "    data = stemming(data) #needed again as we need to stem the words\n",
        "    data = remove_punctuation(data) #needed again as num2word is giving few hypens and commas fourty-one\n",
        "    data = remove_stop_words(data) #needed again as num2word is giving stop words 101 - one hundred and one\n",
        "    return data"
      ],
      "execution_count": 0,
      "outputs": []
    },
    {
      "cell_type": "code",
      "metadata": {
        "id": "-XhIo6DpOnue",
        "colab_type": "code",
        "colab": {}
      },
      "source": [
        "## Extracting Data"
      ],
      "execution_count": 0,
      "outputs": []
    },
    {
      "cell_type": "code",
      "metadata": {
        "id": "EZyRUg9yOvy9",
        "colab_type": "code",
        "colab": {}
      },
      "source": [
        "%%time\n",
        "processed_text = []\n",
        "processed_title = []\n",
        "\n",
        "for i in dataset[:N]:\n",
        "    file = open(i[0], 'r', encoding=\"utf8\", errors='ignore')\n",
        "    text = file.read().strip()\n",
        "    file.close()\n",
        "\n",
        "    processed_text.append(word_tokenize(str(preprocess(text))))\n",
        "    processed_title.append(word_tokenize(str(preprocess(i[1]))))"
      ],
      "execution_count": 0,
      "outputs": []
    },
    {
      "cell_type": "code",
      "metadata": {
        "id": "PbNQRHZA-zTn",
        "colab_type": "code",
        "colab": {
          "base_uri": "https://localhost:8080/",
          "height": 34
        },
        "outputId": "f2702899-df75-4e2f-d0be-61bd3e7f496a"
      },
      "source": [
        "dataset[1]"
      ],
      "execution_count": 149,
      "outputs": [
        {
          "output_type": "execute_result",
          "data": {
            "text/plain": [
              "('/content/stories//13chil.txt', 'The Story of the Sly Fox')"
            ]
          },
          "metadata": {
            "tags": []
          },
          "execution_count": 149
        }
      ]
    },
    {
      "cell_type": "code",
      "metadata": {
        "id": "NDjGIhRyPhdf",
        "colab_type": "code",
        "colab": {
          "base_uri": "https://localhost:8080/",
          "height": 34
        },
        "outputId": "edb975fb-7454-4560-b22e-f70968da4eee"
      },
      "source": [
        "len(processed_text)"
      ],
      "execution_count": 119,
      "outputs": [
        {
          "output_type": "execute_result",
          "data": {
            "text/plain": [
              "467"
            ]
          },
          "metadata": {
            "tags": []
          },
          "execution_count": 119
        }
      ]
    },
    {
      "cell_type": "markdown",
      "metadata": {
        "id": "cvikiOhTzas3",
        "colab_type": "text"
      },
      "source": [
        "\n",
        "## Calculating DF for all words"
      ]
    },
    {
      "cell_type": "code",
      "metadata": {
        "id": "TOwTwtOqTYSY",
        "colab_type": "code",
        "colab": {}
      },
      "source": [
        "DF = {}\n",
        "\n",
        "for i in range(N):\n",
        "    tokens = processed_text[i]\n",
        "    for w in tokens:\n",
        "        try:\n",
        "            DF[w].add(i)\n",
        "        except:\n",
        "            DF[w] = {i}\n",
        "\n",
        "    tokens = processed_title[i]\n",
        "    for w in tokens:\n",
        "        try:\n",
        "            DF[w].add(i)\n",
        "        except:\n",
        "            DF[w] = {i}\n",
        "for i in DF:\n",
        "    DF[i] = len(DF[i])"
      ],
      "execution_count": 0,
      "outputs": []
    },
    {
      "cell_type": "code",
      "metadata": {
        "id": "wauMRHH3zI_t",
        "colab_type": "code",
        "colab": {
          "base_uri": "https://localhost:8080/",
          "height": 34
        },
        "outputId": "4e2cd855-8f5e-44e0-bc42-6739ff463831"
      },
      "source": [
        "len(DF)"
      ],
      "execution_count": 122,
      "outputs": [
        {
          "output_type": "execute_result",
          "data": {
            "text/plain": [
              "32172"
            ]
          },
          "metadata": {
            "tags": []
          },
          "execution_count": 122
        }
      ]
    },
    {
      "cell_type": "code",
      "metadata": {
        "id": "E3zDPvfTzMEY",
        "colab_type": "code",
        "colab": {
          "base_uri": "https://localhost:8080/",
          "height": 34
        },
        "outputId": "1dd09934-6d0a-4d34-80d6-e1cf94fff307"
      },
      "source": [
        "total_vocab_size = len(DF)\n",
        "total_vocab_size"
      ],
      "execution_count": 123,
      "outputs": [
        {
          "output_type": "execute_result",
          "data": {
            "text/plain": [
              "32172"
            ]
          },
          "metadata": {
            "tags": []
          },
          "execution_count": 123
        }
      ]
    },
    {
      "cell_type": "code",
      "metadata": {
        "id": "huLkqZBTznnC",
        "colab_type": "code",
        "colab": {}
      },
      "source": [
        "total_vocab = [x for x in DF]"
      ],
      "execution_count": 0,
      "outputs": []
    },
    {
      "cell_type": "code",
      "metadata": {
        "id": "p2Qseuk8zrUo",
        "colab_type": "code",
        "colab": {
          "base_uri": "https://localhost:8080/",
          "height": 54
        },
        "outputId": "25b9fc15-f777-4968-e1b1-b1e5e248b945"
      },
      "source": [
        "print(total_vocab[0:20])"
      ],
      "execution_count": 128,
      "outputs": [
        {
          "output_type": "stream",
          "text": [
            "['sharewar', 'trial', 'project', 'freewar', 'need', 'support', 'continu', 'hundr', 'west', 'fifti', 'north', 'jim', 'prentic', 'copyright', 'thousand', 'nineti', 'brandon', 'manitoba', 'canada', 'magic']\n"
          ],
          "name": "stdout"
        }
      ]
    },
    {
      "cell_type": "code",
      "metadata": {
        "id": "bQjQpkINztun",
        "colab_type": "code",
        "colab": {}
      },
      "source": [
        "def doc_freq(word):\n",
        "    c = 0\n",
        "    try:\n",
        "        c = DF[word]\n",
        "    except:\n",
        "        pass\n",
        "    return c"
      ],
      "execution_count": 0,
      "outputs": []
    },
    {
      "cell_type": "markdown",
      "metadata": {
        "id": "4qRzqBww0NCk",
        "colab_type": "text"
      },
      "source": [
        "## Calculating TF-IDF for body, we will consider this as the actual tf-idf as we will add the title weight to this."
      ]
    },
    {
      "cell_type": "code",
      "metadata": {
        "id": "UW4D6yIZ0A5W",
        "colab_type": "code",
        "colab": {}
      },
      "source": [
        "doc = 0\n",
        "\n",
        "tf_idf = {}\n",
        "\n",
        "for i in range(N):\n",
        "    \n",
        "    tokens = processed_text[i]\n",
        "    \n",
        "    counter = Counter(tokens + processed_title[i])\n",
        "    words_count = len(tokens + processed_title[i])\n",
        "    \n",
        "    for token in np.unique(tokens):\n",
        "        \n",
        "        tf = counter[token]/words_count\n",
        "        df = doc_freq(token)\n",
        "        idf = np.log((N+1)/(df+1))\n",
        "        \n",
        "        tf_idf[doc, token] = tf*idf\n",
        "\n",
        "    doc += 1"
      ],
      "execution_count": 0,
      "outputs": []
    },
    {
      "cell_type": "markdown",
      "metadata": {
        "id": "YpNDRYV50p_Y",
        "colab_type": "text"
      },
      "source": [
        "## Calculating TF-IDF for Title"
      ]
    },
    {
      "cell_type": "code",
      "metadata": {
        "id": "jzJqujIe0Be2",
        "colab_type": "code",
        "colab": {}
      },
      "source": [
        "tf_idf_title = {}\n",
        "\n",
        "for i in range(N):\n",
        "    \n",
        "    tokens = processed_title[i]\n",
        "    counter = Counter(tokens + processed_text[i])\n",
        "    words_count = len(tokens + processed_text[i])\n",
        "\n",
        "    for token in np.unique(tokens):\n",
        "        \n",
        "        tf = counter[token]/words_count\n",
        "        df = doc_freq(token)\n",
        "        idf = np.log((N+1)/(df+1))\n",
        "        \n",
        "        tf_idf_title[doc, token] = tf*idf\n",
        "\n",
        "    doc += 1"
      ],
      "execution_count": 0,
      "outputs": []
    },
    {
      "cell_type": "code",
      "metadata": {
        "id": "4Lhcatme0t1Z",
        "colab_type": "code",
        "colab": {}
      },
      "source": [
        ""
      ],
      "execution_count": 0,
      "outputs": []
    },
    {
      "cell_type": "code",
      "metadata": {
        "id": "LrjUJiS200lW",
        "colab_type": "code",
        "colab": {}
      },
      "source": [
        "tf_idf[(1, 'bag')]"
      ],
      "execution_count": 0,
      "outputs": []
    },
    {
      "cell_type": "code",
      "metadata": {
        "id": "6PjKBwK21fIl",
        "colab_type": "code",
        "colab": {}
      },
      "source": [
        "tf_idf_title[(1, 'bag')]"
      ],
      "execution_count": 0,
      "outputs": []
    },
    {
      "cell_type": "markdown",
      "metadata": {
        "id": "ygTB5Dxf2cNb",
        "colab_type": "text"
      },
      "source": [
        "##  Merging the TF-IDF according to weights"
      ]
    },
    {
      "cell_type": "code",
      "metadata": {
        "id": "UsIBt-ub1jex",
        "colab_type": "code",
        "colab": {}
      },
      "source": [
        "for i in tf_idf:\n",
        "    tf_idf[i] *= alpha"
      ],
      "execution_count": 0,
      "outputs": []
    },
    {
      "cell_type": "code",
      "metadata": {
        "id": "_nWWK3Xd2aaY",
        "colab_type": "code",
        "colab": {}
      },
      "source": [
        "for i in tf_idf_title:\n",
        "    tf_idf[i] = tf_idf_title[i]"
      ],
      "execution_count": 0,
      "outputs": []
    },
    {
      "cell_type": "code",
      "metadata": {
        "id": "UyUabbo12v9q",
        "colab_type": "code",
        "colab": {
          "base_uri": "https://localhost:8080/",
          "height": 34
        },
        "outputId": "cd1503cb-c835-44dc-ccdc-894b37ecd0a0"
      },
      "source": [
        "len(tf_idf)"
      ],
      "execution_count": 143,
      "outputs": [
        {
          "output_type": "execute_result",
          "data": {
            "text/plain": [
              "320256"
            ]
          },
          "metadata": {
            "tags": []
          },
          "execution_count": 143
        }
      ]
    },
    {
      "cell_type": "markdown",
      "metadata": {
        "id": "dMI54fJG285L",
        "colab_type": "text"
      },
      "source": [
        "# TF-IDF Cosine Similarity Ranking"
      ]
    },
    {
      "cell_type": "code",
      "metadata": {
        "id": "Hgj2qHIj24-y",
        "colab_type": "code",
        "colab": {}
      },
      "source": [
        "def cosine_sim(a, b):\n",
        "    cos_sim = np.dot(a, b)/(np.linalg.norm(a)*np.linalg.norm(b))\n",
        "    return cos_sim"
      ],
      "execution_count": 0,
      "outputs": []
    },
    {
      "cell_type": "markdown",
      "metadata": {
        "id": "fh1EtXlS3MH3",
        "colab_type": "text"
      },
      "source": [
        "### Vectorising tf-idf"
      ]
    },
    {
      "cell_type": "code",
      "metadata": {
        "id": "lxXK9Sr33Gi-",
        "colab_type": "code",
        "colab": {}
      },
      "source": [
        "D = np.zeros((N, total_vocab_size))\n",
        "for i in tf_idf:\n",
        "    try:\n",
        "        ind = total_vocab.index(i[1])\n",
        "        D[i[0]][ind] = tf_idf[i]\n",
        "    except:\n",
        "        pass"
      ],
      "execution_count": 0,
      "outputs": []
    },
    {
      "cell_type": "code",
      "metadata": {
        "id": "XOiYqNED3QkR",
        "colab_type": "code",
        "colab": {}
      },
      "source": [
        "def gen_vector(tokens):\n",
        "\n",
        "    Q = np.zeros((len(total_vocab)))\n",
        "    \n",
        "    counter = Counter(tokens)\n",
        "    words_count = len(tokens)\n",
        "\n",
        "    query_weights = {}\n",
        "    \n",
        "    for token in np.unique(tokens):\n",
        "        \n",
        "        tf = counter[token]/words_count\n",
        "        df = doc_freq(token)\n",
        "        idf = math.log((N+1)/(df+1))\n",
        "\n",
        "        try:\n",
        "            ind = total_vocab.index(token)\n",
        "            Q[ind] = tf*idf\n",
        "        except:\n",
        "            pass\n",
        "    return Q"
      ],
      "execution_count": 0,
      "outputs": []
    },
    {
      "cell_type": "code",
      "metadata": {
        "id": "GN5pWPtf3b7-",
        "colab_type": "code",
        "colab": {
          "base_uri": "https://localhost:8080/",
          "height": 136
        },
        "outputId": "c6f6d868-f50d-4e88-bda9-2199b28e087f"
      },
      "source": [
        "\n",
        "def cosine_similarity(k, query):\n",
        "    print(\"Cosine Similarity\")\n",
        "    preprocessed_query = preprocess(query)\n",
        "    tokens = word_tokenize(str(preprocessed_query))\n",
        "    \n",
        "    print(\"\\nQuery:\", query)\n",
        "    print(\"\")\n",
        "    print(tokens)\n",
        "    \n",
        "    d_cosines = []\n",
        "    \n",
        "    query_vector = gen_vector(tokens)\n",
        "    \n",
        "    for d in D:\n",
        "        d_cosines.append(cosine_sim(query_vector, d))\n",
        "        \n",
        "    out = np.array(d_cosines).argsort()[-k:][::-1]\n",
        "    \n",
        "    print(\"\")\n",
        "    \n",
        "    print(out)\n",
        "\n",
        "#     for i in out:\n",
        "#         print(i, dataset[i][0])\n",
        "\n",
        "Q = cosine_similarity(10, \"Without the drive of Rebeccah's insistence, Kate lost her momentum. She stood next a slatted oak bench, canisters still clutched, surveying\")"
      ],
      "execution_count": 148,
      "outputs": [
        {
          "output_type": "stream",
          "text": [
            "Cosine Similarity\n",
            "\n",
            "Query: Without the drive of Rebeccah's insistence, Kate lost her momentum. She stood next a slatted oak bench, canisters still clutched, surveying\n",
            "\n",
            "['drive', 'rebeccah', 'insist', 'kate', 'lost', 'momentum', 'stood', 'slat', 'oak', 'bench', 'canist', 'clutch', 'survey']\n",
            "\n",
            "[200 433 166 175 169 211 402  63 290 151]\n"
          ],
          "name": "stdout"
        }
      ]
    },
    {
      "cell_type": "code",
      "metadata": {
        "id": "C7tV1q403hNC",
        "colab_type": "code",
        "colab": {}
      },
      "source": [
        ""
      ],
      "execution_count": 0,
      "outputs": []
    }
  ]
}