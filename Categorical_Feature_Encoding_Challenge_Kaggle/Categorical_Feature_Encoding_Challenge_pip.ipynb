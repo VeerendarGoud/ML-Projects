{
  "nbformat": 4,
  "nbformat_minor": 0,
  "metadata": {
    "kernelspec": {
      "display_name": "conda_python3",
      "language": "python",
      "name": "conda_python3"
    },
    "language_info": {
      "codemirror_mode": {
        "name": "ipython",
        "version": 3
      },
      "file_extension": ".py",
      "mimetype": "text/x-python",
      "name": "python",
      "nbconvert_exporter": "python",
      "pygments_lexer": "ipython3",
      "version": "3.6.5"
    },
    "colab": {
      "name": "Categorical Feature Encoding Challenge_Submission.ipynb",
      "provenance": [],
      "collapsed_sections": []
    }
  },
  "cells": [
    {
      "cell_type": "code",
      "metadata": {
        "id": "_pjOucJZvpye",
        "colab_type": "code",
        "colab": {}
      },
      "source": [
        "# Imports\n",
        "from sklearn.preprocessing import StandardScaler,LabelEncoder,OneHotEncoder\n",
        "from sklearn.decomposition import TruncatedSVD,PCA\n",
        "from sklearn.metrics import roc_curve\n",
        "from sklearn.model_selection import GridSearchCV,KFold,cross_val_score\n",
        "from sklearn.linear_model import LogisticRegression\n",
        "from sklearn.metrics import confusion_matrix,roc_auc_score,auc,accuracy_score\n",
        "from sklearn.pipeline import Pipeline\n",
        "\n",
        "import numpy as np\n",
        "import string\n",
        "import itertools\n",
        "\n",
        "import numpy as np\n",
        "from scipy.sparse import csr_matrix,hstack\n",
        "\n",
        "import boto3\n",
        "import pandas as pd\n",
        "#from sagemaker import get_execution_role"
      ],
      "execution_count": 0,
      "outputs": []
    },
    {
      "cell_type": "code",
      "metadata": {
        "id": "Ej3HWrL2v8Sn",
        "colab_type": "code",
        "colab": {}
      },
      "source": [
        "from google.colab import drive\n",
        "drive.mount('/content/drive')"
      ],
      "execution_count": 0,
      "outputs": []
    },
    {
      "cell_type": "code",
      "metadata": {
        "id": "7j50TZ9Vv2Dg",
        "colab_type": "code",
        "colab": {}
      },
      "source": [
        "train = pd.read_csv('/content/drive/My Drive/dataset/cat/train.csv')\n",
        "test = pd.read_csv('/content/drive/My Drive/dataset/cat/test.csv')"
      ],
      "execution_count": 0,
      "outputs": []
    },
    {
      "cell_type": "code",
      "metadata": {
        "id": "Q0yu7n04vpym",
        "colab_type": "code",
        "colab": {}
      },
      "source": [
        "# getting train test data id's\n",
        "train_id = train['id']\n",
        "test_id = test['id']\n",
        "target = train['target']\n",
        "\n",
        "# merging train test data sets into one data frame for feature engineering \n",
        "df = pd.concat([train.drop(labels=['id','target'],axis=1), test.drop(labels='id',axis=1)])"
      ],
      "execution_count": 0,
      "outputs": []
    },
    {
      "cell_type": "code",
      "metadata": {
        "id": "c8e0HsdyxFSG",
        "colab_type": "code",
        "colab": {}
      },
      "source": [
        "from sklearn.base import BaseEstimator,MetaEstimatorMixin"
      ],
      "execution_count": 0,
      "outputs": []
    },
    {
      "cell_type": "markdown",
      "metadata": {
        "id": "ZLi7UB4fX4Uf",
        "colab_type": "text"
      },
      "source": [
        "# feature engineering"
      ]
    },
    {
      "cell_type": "code",
      "metadata": {
        "id": "mUlSfKDOXPz5",
        "colab_type": "code",
        "colab": {}
      },
      "source": [
        ""
      ],
      "execution_count": 0,
      "outputs": []
    },
    {
      "cell_type": "code",
      "metadata": {
        "id": "GXLcbnO0VoB_",
        "colab_type": "code",
        "colab": {}
      },
      "source": [
        "bin_attr = ['bin_3','bin_4']\n",
        "\n",
        "ord_dict = {'Freezing':1,'Cold':2,'Warm':3,'Hot':4,\n",
        "                  'Boiling Hot':5,'Lava Hot':6,'Novice':1,\n",
        "                  'Contributor':2,'Expert':3,'Master':4,'Grandmaster':5}\n",
        "\n",
        "ord_attr = ['ord_0','ord_1', 'ord_2', 'ord_3', 'ord_4', 'ord_5']\n",
        "\n",
        "nom_attr = ['nom_0','nom_1','nom_2','nom_3','nom_4','nom_5','nom_6','nom_7','nom_8','nom_9','day','month']"
      ],
      "execution_count": 0,
      "outputs": []
    },
    {
      "cell_type": "markdown",
      "metadata": {
        "id": "E6OKWUnwYAVi",
        "colab_type": "text"
      },
      "source": [
        "## bin attribute transformer"
      ]
    },
    {
      "cell_type": "code",
      "metadata": {
        "id": "8iKnmMRfxPI9",
        "colab_type": "code",
        "colab": {}
      },
      "source": [
        "\n",
        "class BinAttrTransform(BaseEstimator,MetaEstimatorMixin):\n",
        "  def __init__(self,bin_attr):\n",
        "    self.bin_attr = bin_attr\n",
        "  def fit(self,X,y=None):\n",
        "    return self\n",
        "  def transform(self,X):\n",
        "    bin_map = {'T':1,'F':0,'Y':1,'N':0}\n",
        "    for att in bin_attr:\n",
        "      X[att] = X[att].map(bin_map)\n",
        "    return X"
      ],
      "execution_count": 0,
      "outputs": []
    },
    {
      "cell_type": "markdown",
      "metadata": {
        "id": "zvGv9eYMYE6A",
        "colab_type": "text"
      },
      "source": [
        "## ordinal attribute transformer"
      ]
    },
    {
      "cell_type": "code",
      "metadata": {
        "id": "4LyxWx6R1bMV",
        "colab_type": "code",
        "colab": {}
      },
      "source": [
        "class OrdAttTransform(BaseEstimator,MetaEstimatorMixin):\n",
        "  def __init__(self,ord_attr):\n",
        "    self.ord_attr = ord_attr\n",
        "    ord_dict = {'Freezing':1,'Cold':2,'Warm':3,'Hot':4,\n",
        "                  'Boiling Hot':5,'Lava Hot':6,'Novice':1,\n",
        "                  'Contributor':2,'Expert':3,'Master':4,'Grandmaster':5}\n",
        "  def fit(self,X):\n",
        "    return self\n",
        "  def orde_scal(num_ordnl):\n",
        "    seq = np.linspace(0,1,num_ordnl)\n",
        "    return seq\n",
        "  def transform(self,X):\n",
        "    \n",
        "    for attr in ord_attr:\n",
        "\n",
        "      if attr in ('ord_1','ord_2'):\n",
        "        X[attr] = X[attr].map(ord_dict)\n",
        "\n",
        "      atlist = X[attr].unique().tolist()\n",
        "      atlist.sort()\n",
        "      arlist_len = len(atlist)\n",
        "      \n",
        "      attrmap = dict(zip(atlist, np.linspace(0,1,arlist_len)))\n",
        "      X[attr] = X[attr].map(attrmap)\n",
        "    return X\n",
        "\n",
        "    "
      ],
      "execution_count": 0,
      "outputs": []
    },
    {
      "cell_type": "markdown",
      "metadata": {
        "id": "8Nl1ThSpYJ5x",
        "colab_type": "text"
      },
      "source": [
        "## nominal attribute transformer"
      ]
    },
    {
      "cell_type": "code",
      "metadata": {
        "id": "U7NFG7RIXfwx",
        "colab_type": "code",
        "colab": {}
      },
      "source": [
        ""
      ],
      "execution_count": 0,
      "outputs": []
    },
    {
      "cell_type": "code",
      "metadata": {
        "id": "Oyops-DUFVCG",
        "colab_type": "code",
        "colab": {}
      },
      "source": [
        "class nomAttrTransform(BaseEstimator,MetaEstimatorMixin):\n",
        "  def __init__(self,nom_attr):\n",
        "    self.nom_attr = nom_attr\n",
        "  def fit(self,X,y=None):\n",
        "    return self\n",
        "  def transform(self,X):\n",
        "    X_label = X[nom_attr].apply(LabelEncoder().fit_transform)\n",
        "    nom_sparse = OneHotEncoder().fit_transform(X_label)\n",
        "    df_sp = X.drop(labels=nom_attr,axis=1)\n",
        "    df_non_nom_csr = csr_matrix(df_sp)\n",
        "    return hstack([df_non_nom_csr,nom_sparse])\n",
        "    \n",
        "    \n"
      ],
      "execution_count": 0,
      "outputs": []
    },
    {
      "cell_type": "code",
      "metadata": {
        "id": "05ylvgOmG3_P",
        "colab_type": "code",
        "colab": {}
      },
      "source": [
        ""
      ],
      "execution_count": 0,
      "outputs": []
    },
    {
      "cell_type": "markdown",
      "metadata": {
        "id": "q5fTSqT_YOTI",
        "colab_type": "text"
      },
      "source": [
        "## pipeline"
      ]
    },
    {
      "cell_type": "code",
      "metadata": {
        "id": "Ov34f1liXmPF",
        "colab_type": "code",
        "colab": {}
      },
      "source": [
        ""
      ],
      "execution_count": 0,
      "outputs": []
    },
    {
      "cell_type": "code",
      "metadata": {
        "id": "zAC_prIsOLD3",
        "colab_type": "code",
        "colab": {}
      },
      "source": [
        "pipeline = Pipeline([\n",
        "                     ('bin_trans',BinAttrTransform(bin_attr)),\n",
        "                     ('ord_trans',OrdAttTransform(ord_attr)),\n",
        "                     ('nom_trans',nomAttrTransform(nom_attr))\n",
        "])"
      ],
      "execution_count": 0,
      "outputs": []
    },
    {
      "cell_type": "code",
      "metadata": {
        "id": "RHcqi-Q5O7eh",
        "colab_type": "code",
        "colab": {
          "base_uri": "https://localhost:8080/",
          "height": 110
        },
        "outputId": "d25ed3a7-8e3d-4e53-f898-4f642278b211"
      },
      "source": [
        "df_sparse = pipeline.transform(df_test)"
      ],
      "execution_count": 264,
      "outputs": [
        {
          "output_type": "stream",
          "text": [
            "/usr/local/lib/python3.6/dist-packages/sklearn/preprocessing/_encoders.py:415: FutureWarning: The handling of integer data will change in version 0.22. Currently, the categories are determined based on the range [0, max(values)], while in the future they will be determined based on the unique values.\n",
            "If you want the future behaviour and silence this warning, you can specify \"categories='auto'\".\n",
            "In case you used a LabelEncoder before this OneHotEncoder to convert the categories to integers, then you can now use the OneHotEncoder directly.\n",
            "  warnings.warn(msg, FutureWarning)\n"
          ],
          "name": "stderr"
        }
      ]
    },
    {
      "cell_type": "code",
      "metadata": {
        "id": "hWEmGFu2VF3w",
        "colab_type": "code",
        "colab": {
          "base_uri": "https://localhost:8080/",
          "height": 54
        },
        "outputId": "697b7733-168f-45f7-8df7-ba433e5b372f"
      },
      "source": [
        "df_sparse"
      ],
      "execution_count": 265,
      "outputs": [
        {
          "output_type": "execute_result",
          "data": {
            "text/plain": [
              "<500000x16306 sparse matrix of type '<class 'numpy.float64'>'\n",
              "\twith 9163718 stored elements in COOrdinate format>"
            ]
          },
          "metadata": {
            "tags": []
          },
          "execution_count": 265
        }
      ]
    },
    {
      "cell_type": "markdown",
      "metadata": {
        "id": "JmVUIB2rYTF3",
        "colab_type": "text"
      },
      "source": [
        "## train test data split"
      ]
    },
    {
      "cell_type": "code",
      "metadata": {
        "id": "yXRUv1ENV7mA",
        "colab_type": "code",
        "colab": {}
      },
      "source": [
        "test_x = df_sparse.tocsr()[300000:,:]"
      ],
      "execution_count": 0,
      "outputs": []
    },
    {
      "cell_type": "code",
      "metadata": {
        "id": "Hk9B3Q-lV7YI",
        "colab_type": "code",
        "colab": {}
      },
      "source": [
        "train_x = df_sparse.tocsr()[:300000,:]"
      ],
      "execution_count": 0,
      "outputs": []
    },
    {
      "cell_type": "code",
      "metadata": {
        "id": "pEbPte6hWpvb",
        "colab_type": "code",
        "colab": {
          "base_uri": "https://localhost:8080/",
          "height": 35
        },
        "outputId": "3299dbfd-25aa-4458-a196-f5e03311629d"
      },
      "source": [
        "train_x.shape,test_x.shape"
      ],
      "execution_count": 269,
      "outputs": [
        {
          "output_type": "execute_result",
          "data": {
            "text/plain": [
              "((300000, 16306), (200000, 16306))"
            ]
          },
          "metadata": {
            "tags": []
          },
          "execution_count": 269
        }
      ]
    },
    {
      "cell_type": "markdown",
      "metadata": {
        "id": "vw1v2gY0YYnV",
        "colab_type": "text"
      },
      "source": [
        "## logistic rigression"
      ]
    },
    {
      "cell_type": "code",
      "metadata": {
        "id": "VGW6fXV6vpz8",
        "colab_type": "code",
        "colab": {
          "base_uri": "https://localhost:8080/",
          "height": 54
        },
        "outputId": "d91b2c1c-7c55-4019-a59e-3406f7e1778e"
      },
      "source": [
        "%%time\n",
        "logit = LogisticRegression(solver='lbfgs', max_iter=5000,C=0.12)\n",
        "logit.fit(train_x,target)"
      ],
      "execution_count": 271,
      "outputs": [
        {
          "output_type": "stream",
          "text": [
            "CPU times: user 30.8 s, sys: 33.6 s, total: 1min 4s\n",
            "Wall time: 32.5 s\n"
          ],
          "name": "stdout"
        }
      ]
    },
    {
      "cell_type": "code",
      "metadata": {
        "id": "66wc57NVvpz-",
        "colab_type": "code",
        "colab": {}
      },
      "source": [
        "pred = logit.predict_proba(train_x)[:,1]"
      ],
      "execution_count": 0,
      "outputs": []
    },
    {
      "cell_type": "code",
      "metadata": {
        "id": "714xTyOQvp0B",
        "colab_type": "code",
        "colab": {}
      },
      "source": [
        "fpr, tpr, _ = roc_curve(target, pred)\n",
        "roc_auc = auc(fpr, tpr)"
      ],
      "execution_count": 0,
      "outputs": []
    },
    {
      "cell_type": "code",
      "metadata": {
        "id": "mOHygF7Fvp0E",
        "colab_type": "code",
        "colab": {
          "base_uri": "https://localhost:8080/",
          "height": 35
        },
        "outputId": "2eee0228-f561-4f33-f878-7e31a1f1b921"
      },
      "source": [
        "roc_auc"
      ],
      "execution_count": 274,
      "outputs": [
        {
          "output_type": "execute_result",
          "data": {
            "text/plain": [
              "0.8272910664212785"
            ]
          },
          "metadata": {
            "tags": []
          },
          "execution_count": 274
        }
      ]
    },
    {
      "cell_type": "code",
      "metadata": {
        "id": "H0Y5H7VYvp0G",
        "colab_type": "code",
        "colab": {
          "base_uri": "https://localhost:8080/",
          "height": 35
        },
        "outputId": "d55f084f-eaa1-4553-ccb3-432c07dee9ff"
      },
      "source": [
        "pred_prob = logit.predict_proba(train_x)[:,1]\n",
        "\n",
        "roc_auc_score(target,pred_prob)"
      ],
      "execution_count": 275,
      "outputs": [
        {
          "output_type": "execute_result",
          "data": {
            "text/plain": [
              "0.8272910664212785"
            ]
          },
          "metadata": {
            "tags": []
          },
          "execution_count": 275
        }
      ]
    },
    {
      "cell_type": "code",
      "metadata": {
        "id": "DN8zpkjDvp0I",
        "colab_type": "code",
        "colab": {}
      },
      "source": [
        "# cross validation\n",
        "cv = KFold(n_splits=10, random_state=42)"
      ],
      "execution_count": 0,
      "outputs": []
    },
    {
      "cell_type": "code",
      "metadata": {
        "id": "mkJiKqoovp0K",
        "colab_type": "code",
        "colab": {},
        "outputId": "916a7b11-d68f-4753-8246-d17c31e4c619"
      },
      "source": [
        "%%time\n",
        "scores = cross_val_score(logit,train_x,target,cv=cv,scoring='roc_auc')"
      ],
      "execution_count": 0,
      "outputs": [
        {
          "output_type": "stream",
          "text": [
            "CPU times: user 4min 53s, sys: 1min 5s, total: 5min 59s\n",
            "Wall time: 3min 1s\n"
          ],
          "name": "stdout"
        }
      ]
    },
    {
      "cell_type": "code",
      "metadata": {
        "id": "NJe1gxuFvp0M",
        "colab_type": "code",
        "colab": {},
        "outputId": "fe211c6e-e38f-4793-b69a-e28ce0fa72df"
      },
      "source": [
        "print(scores.mean())"
      ],
      "execution_count": 0,
      "outputs": [
        {
          "output_type": "stream",
          "text": [
            "0.8023996165134285\n"
          ],
          "name": "stdout"
        }
      ]
    },
    {
      "cell_type": "code",
      "metadata": {
        "id": "pFFC9S1Qvp0Q",
        "colab_type": "code",
        "colab": {}
      },
      "source": [
        "## Grid Search"
      ],
      "execution_count": 0,
      "outputs": []
    },
    {
      "cell_type": "code",
      "metadata": {
        "id": "9T6BSuVRvp0U",
        "colab_type": "code",
        "colab": {},
        "outputId": "1dbc065b-f62f-4d76-e94e-98065253becf"
      },
      "source": [
        "%%time\n",
        "param_grid = { 'C': [0.100, 0.150, 0.120, 0.125, 0.130, 0.135, 0.140, 0.145, 0.150] }\n",
        "\n",
        "logit_grid = GridSearchCV(logit, param_grid,scoring='roc_auc', cv=cv)\n",
        "\n",
        "logit_grid.fit(train_x, target)\n",
        "\n",
        "best_C = logit_grid.best_params_['C']\n",
        "# best_C = C = 0.12345\n",
        "\n",
        "print('Best C:', best_C)"
      ],
      "execution_count": 0,
      "outputs": [
        {
          "output_type": "stream",
          "text": [
            "Best C: 0.12\n"
          ],
          "name": "stdout"
        }
      ]
    },
    {
      "cell_type": "code",
      "metadata": {
        "id": "u6ojeJxNvp0X",
        "colab_type": "code",
        "colab": {},
        "outputId": "efd6473e-2008-4289-af09-e925205c0661"
      },
      "source": [
        "pred_prob = logit_grid.predict_proba(train_x)[:,1]\n",
        "\n",
        "roc_auc_score(target,pred_prob)"
      ],
      "execution_count": 0,
      "outputs": [
        {
          "output_type": "execute_result",
          "data": {
            "text/plain": [
              "0.8252877437551849"
            ]
          },
          "metadata": {
            "tags": []
          },
          "execution_count": 126
        }
      ]
    },
    {
      "cell_type": "code",
      "metadata": {
        "id": "HWv4ASy1vp0c",
        "colab_type": "code",
        "colab": {}
      },
      "source": [
        "# Results"
      ],
      "execution_count": 0,
      "outputs": []
    },
    {
      "cell_type": "code",
      "metadata": {
        "id": "pU9mrtsqvp0f",
        "colab_type": "code",
        "colab": {}
      },
      "source": [
        "pred_prob = logit_grid.predict_proba(test_x)[:,1]\n",
        "\n",
        "#roc_auc_score(target,pred_prob)\n",
        "\n",
        "pred=logit_grid.predict_proba(test_x)[:,1]\n",
        "\n",
        "pd.DataFrame({\"id\": test[\"id\"], \"target\": pred_prob}).to_csv(\"submission.csv\", index=False)"
      ],
      "execution_count": 0,
      "outputs": []
    },
    {
      "cell_type": "code",
      "metadata": {
        "id": "Qu108_QEvp0h",
        "colab_type": "code",
        "colab": {}
      },
      "source": [
        ""
      ],
      "execution_count": 0,
      "outputs": []
    },
    {
      "cell_type": "code",
      "metadata": {
        "id": "pg70XMNOvp0j",
        "colab_type": "code",
        "colab": {}
      },
      "source": [
        ""
      ],
      "execution_count": 0,
      "outputs": []
    },
    {
      "cell_type": "code",
      "metadata": {
        "id": "SdKek2Jkvp0k",
        "colab_type": "code",
        "colab": {}
      },
      "source": [
        ""
      ],
      "execution_count": 0,
      "outputs": []
    }
  ]
}