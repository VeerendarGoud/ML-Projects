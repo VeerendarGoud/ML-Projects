{
  "nbformat": 4,
  "nbformat_minor": 0,
  "metadata": {
    "kernelspec": {
      "name": "python3",
      "display_name": "Python 3"
    },
    "colab": {
      "name": "Copy of cnn2.ipynb",
      "provenance": [],
      "machine_shape": "hm"
    },
    "accelerator": "GPU"
  },
  "cells": [
    {
      "cell_type": "code",
      "metadata": {
        "id": "DcStk4XdziiJ",
        "colab_type": "code",
        "outputId": "8d9ca4a4-15d2-4971-a584-4865035ee355",
        "colab": {
          "base_uri": "https://localhost:8080/",
          "height": 63
        }
      },
      "source": [
        "import time\n",
        "import math\n",
        "import random\n",
        "import os\n",
        "import pathlib\n",
        "import IPython.display as display\n",
        "from PIL import Image\n",
        "import pandas as pd\n",
        "import numpy as np\n",
        "import matplotlib.pyplot as plt\n",
        "import tensorflow as tf\n",
        "import cv2\n",
        "\n",
        "from sklearn.metrics import confusion_matrix\n",
        "from datetime import timedelta\n",
        "\n",
        "%matplotlib inline"
      ],
      "execution_count": 2,
      "outputs": [
        {
          "output_type": "display_data",
          "data": {
            "text/html": [
              "<p style=\"color: red;\">\n",
              "The default version of TensorFlow in Colab will soon switch to TensorFlow 2.x.<br>\n",
              "We recommend you <a href=\"https://www.tensorflow.org/guide/migrate\" target=\"_blank\">upgrade</a> now \n",
              "or ensure your notebook will continue to use TensorFlow 1.x via the <code>%tensorflow_version 1.x</code> magic:\n",
              "<a href=\"https://colab.research.google.com/notebooks/tensorflow_version.ipynb\" target=\"_blank\">more info</a>.</p>\n"
            ],
            "text/plain": [
              "<IPython.core.display.HTML object>"
            ]
          },
          "metadata": {
            "tags": []
          }
        }
      ]
    },
    {
      "cell_type": "code",
      "metadata": {
        "id": "dXaGQYfi0tlZ",
        "colab_type": "code",
        "outputId": "8d690ac1-602b-474d-843b-5edeb80a80ce",
        "colab": {
          "base_uri": "https://localhost:8080/",
          "height": 122
        }
      },
      "source": [
        "from google.colab import drive\n",
        "drive.mount('/content/drive')"
      ],
      "execution_count": 3,
      "outputs": [
        {
          "output_type": "stream",
          "text": [
            "Go to this URL in a browser: https://accounts.google.com/o/oauth2/auth?client_id=947318989803-6bn6qk8qdgf4n4g3pfee6491hc0brc4i.apps.googleusercontent.com&redirect_uri=urn%3aietf%3awg%3aoauth%3a2.0%3aoob&response_type=code&scope=email%20https%3a%2f%2fwww.googleapis.com%2fauth%2fdocs.test%20https%3a%2f%2fwww.googleapis.com%2fauth%2fdrive%20https%3a%2f%2fwww.googleapis.com%2fauth%2fdrive.photos.readonly%20https%3a%2f%2fwww.googleapis.com%2fauth%2fpeopleapi.readonly\n",
            "\n",
            "Enter your authorization code:\n",
            "··········\n",
            "Mounted at /content/drive\n"
          ],
          "name": "stdout"
        }
      ]
    },
    {
      "cell_type": "code",
      "metadata": {
        "id": "wIxeZrxZziiU",
        "colab_type": "code",
        "outputId": "0c829ec0-d82d-4b7b-f214-b9741a7bf2ed",
        "colab": {
          "base_uri": "https://localhost:8080/",
          "height": 34
        }
      },
      "source": [
        "tf.__version__"
      ],
      "execution_count": 4,
      "outputs": [
        {
          "output_type": "execute_result",
          "data": {
            "text/plain": [
              "'1.15.0'"
            ]
          },
          "metadata": {
            "tags": []
          },
          "execution_count": 4
        }
      ]
    },
    {
      "cell_type": "code",
      "metadata": {
        "id": "BM_JyIlTziia",
        "colab_type": "code",
        "colab": {}
      },
      "source": [
        "#tf.enable_eager_execution()\n",
        "#tf.compat.v1.disable_eager_execution()"
      ],
      "execution_count": 0,
      "outputs": []
    },
    {
      "cell_type": "code",
      "metadata": {
        "id": "XQE0QbWyziif",
        "colab_type": "code",
        "colab": {}
      },
      "source": [
        "AUTOTUNE = tf.data.experimental.AUTOTUNE"
      ],
      "execution_count": 0,
      "outputs": []
    },
    {
      "cell_type": "code",
      "metadata": {
        "id": "LNS9t14Oziil",
        "colab_type": "code",
        "colab": {}
      },
      "source": [
        "CLASS_NAMES = ['cats','dogs']\n",
        "NUM_CLASS = len(CLASS_NAMES)\n",
        "CLASS_NAMES_TF = tf.convert_to_tensor(CLASS_NAMES, dtype=tf.string)\n",
        "IMG_WIDTH,IMG_HEIGHT = 128,128"
      ],
      "execution_count": 0,
      "outputs": []
    },
    {
      "cell_type": "markdown",
      "metadata": {
        "id": "bYTdqwMpziip",
        "colab_type": "text"
      },
      "source": [
        "# Load Data"
      ]
    },
    {
      "cell_type": "code",
      "metadata": {
        "id": "fjR8kwm8ziir",
        "colab_type": "code",
        "colab": {}
      },
      "source": [
        "# data dir\n",
        "#data_dir = os.path.join(os.getcwd(),'cnn_data/training_set')"
      ],
      "execution_count": 0,
      "outputs": []
    },
    {
      "cell_type": "code",
      "metadata": {
        "id": "U81SdDIXziiz",
        "colab_type": "code",
        "colab": {}
      },
      "source": [
        "data_dir = os.path.join(os.getcwd(),'/content/drive/My Drive/dataset/training_set')"
      ],
      "execution_count": 0,
      "outputs": []
    },
    {
      "cell_type": "code",
      "metadata": {
        "id": "tS_zHa8rzii3",
        "colab_type": "code",
        "colab": {}
      },
      "source": [
        "# using pathlib\n",
        "data_dir = pathlib.Path(data_dir)"
      ],
      "execution_count": 0,
      "outputs": []
    },
    {
      "cell_type": "code",
      "metadata": {
        "id": "TDF1wp0ozii7",
        "colab_type": "code",
        "outputId": "4732b796-84c4-4b52-afbc-fe0f7dcd0da6",
        "colab": {
          "base_uri": "https://localhost:8080/",
          "height": 34
        }
      },
      "source": [
        "data_dir"
      ],
      "execution_count": 11,
      "outputs": [
        {
          "output_type": "execute_result",
          "data": {
            "text/plain": [
              "PosixPath('/content/drive/My Drive/dataset/training_set')"
            ]
          },
          "metadata": {
            "tags": []
          },
          "execution_count": 11
        }
      ]
    },
    {
      "cell_type": "code",
      "metadata": {
        "id": "yyxmaUNyzijE",
        "colab_type": "code",
        "outputId": "a26adda9-2d8b-4d59-b13f-95228f321507",
        "colab": {
          "base_uri": "https://localhost:8080/",
          "height": 34
        }
      },
      "source": [
        "image_count = len(list(data_dir.glob('*/*.jpg')))\n",
        "image_count"
      ],
      "execution_count": 12,
      "outputs": [
        {
          "output_type": "execute_result",
          "data": {
            "text/plain": [
              "8000"
            ]
          },
          "metadata": {
            "tags": []
          },
          "execution_count": 12
        }
      ]
    },
    {
      "cell_type": "code",
      "metadata": {
        "id": "GnK20XqPzijJ",
        "colab_type": "code",
        "outputId": "95b873e0-ca44-41cf-8379-27b072d72b7a",
        "colab": {
          "base_uri": "https://localhost:8080/",
          "height": 68
        }
      },
      "source": [
        "for item in data_dir.glob('*'):\n",
        "    print(item.name)"
      ],
      "execution_count": 13,
      "outputs": [
        {
          "output_type": "stream",
          "text": [
            "cats\n",
            "dogs\n",
            ".DS_Store\n"
          ],
          "name": "stdout"
        }
      ]
    },
    {
      "cell_type": "code",
      "metadata": {
        "id": "DQ1OWo_VzijN",
        "colab_type": "code",
        "colab": {}
      },
      "source": [
        "cats = list(data_dir.glob('cats/*'))"
      ],
      "execution_count": 0,
      "outputs": []
    },
    {
      "cell_type": "code",
      "metadata": {
        "id": "ddpbIxWFzijS",
        "colab_type": "code",
        "colab": {}
      },
      "source": [
        "for image_path in cats[:3]:\n",
        "    display.display(Image.open(str(image_path)))"
      ],
      "execution_count": 0,
      "outputs": []
    },
    {
      "cell_type": "code",
      "metadata": {
        "id": "1cAZRGQCzija",
        "colab_type": "code",
        "outputId": "1566d1b3-393d-4007-fae6-56b7a813d12a",
        "colab": {
          "base_uri": "https://localhost:8080/",
          "height": 34
        }
      },
      "source": [
        "data_dir"
      ],
      "execution_count": 15,
      "outputs": [
        {
          "output_type": "execute_result",
          "data": {
            "text/plain": [
              "PosixPath('/content/drive/My Drive/dataset/training_set')"
            ]
          },
          "metadata": {
            "tags": []
          },
          "execution_count": 15
        }
      ]
    },
    {
      "cell_type": "code",
      "metadata": {
        "id": "jocXoCDAzije",
        "colab_type": "code",
        "colab": {}
      },
      "source": [
        "list_ds = tf.data.Dataset.list_files(str(data_dir/'*/*.jpg'))"
      ],
      "execution_count": 0,
      "outputs": []
    },
    {
      "cell_type": "code",
      "metadata": {
        "id": "l8jB4v1xzijl",
        "colab_type": "code",
        "colab": {}
      },
      "source": [
        "val_dataset = list_ds.take(1000) \n",
        "train_dataset = list_ds.skip(1000)"
      ],
      "execution_count": 0,
      "outputs": []
    },
    {
      "cell_type": "code",
      "metadata": {
        "id": "thxKneETLyUJ",
        "colab_type": "code",
        "colab": {}
      },
      "source": [
        "len(list(train_dataset))"
      ],
      "execution_count": 0,
      "outputs": []
    },
    {
      "cell_type": "code",
      "metadata": {
        "id": "ogU6HZ66L-aK",
        "colab_type": "code",
        "colab": {}
      },
      "source": [
        "len(list(val_dataset))"
      ],
      "execution_count": 0,
      "outputs": []
    },
    {
      "cell_type": "code",
      "metadata": {
        "id": "OxMWArhqMHnm",
        "colab_type": "code",
        "colab": {}
      },
      "source": [
        "#tf.shape(tf.get_default_graph().get_tensor_by_name('MatchingFiles:0'))[0]"
      ],
      "execution_count": 0,
      "outputs": []
    },
    {
      "cell_type": "code",
      "metadata": {
        "id": "OjVjX5K6zijw",
        "colab_type": "code",
        "colab": {}
      },
      "source": [
        "def get_label(file_path):\n",
        "    # Convert the path to a list of path components\n",
        "    parts = tf.strings.split([file_path],sep=os.path.sep)\n",
        "    \n",
        "    label = tf.equal(CLASS_NAMES_TF,parts.values[-2])\n",
        "    return label"
      ],
      "execution_count": 0,
      "outputs": []
    },
    {
      "cell_type": "code",
      "metadata": {
        "id": "7SWsa9V2zikG",
        "colab_type": "code",
        "colab": {}
      },
      "source": [
        "def decode_img(img):\n",
        "    # convert the compressed string to a 3D unit tensor\n",
        "    img = tf.image.decode_jpeg(img,channels=3)\n",
        "    # Use 'convert_image_dtype' to convert to floats in the [0,1] range.\n",
        "    img  = tf.image.convert_image_dtype(img,tf.float32)\n",
        "    # resize the image to the desired size.\n",
        "    return tf.image.resize(img,[IMG_WIDTH,IMG_HEIGHT])"
      ],
      "execution_count": 0,
      "outputs": []
    },
    {
      "cell_type": "code",
      "metadata": {
        "id": "j0kYs2IlzikJ",
        "colab_type": "code",
        "colab": {}
      },
      "source": [
        "def process_path(file_path):\n",
        "    label = get_label(file_path)\n",
        "    # load the raw data from the file as a string\n",
        "    img = tf.io.read_file(file_path)\n",
        "    img = decode_img(img)\n",
        "    return img,label"
      ],
      "execution_count": 0,
      "outputs": []
    },
    {
      "cell_type": "code",
      "metadata": {
        "id": "k0ivNjSZzikN",
        "colab_type": "code",
        "colab": {}
      },
      "source": [
        "labeled_ds = list_ds.map(process_path,num_parallel_calls=AUTOTUNE)"
      ],
      "execution_count": 0,
      "outputs": []
    },
    {
      "cell_type": "code",
      "metadata": {
        "id": "YkQ4q4P4zikR",
        "colab_type": "code",
        "colab": {}
      },
      "source": [
        "val_dataset = val_dataset.map(process_path,num_parallel_calls=AUTOTUNE)\n",
        "train_dataset = train_dataset.map(process_path,num_parallel_calls=AUTOTUNE)"
      ],
      "execution_count": 0,
      "outputs": []
    },
    {
      "cell_type": "code",
      "metadata": {
        "id": "yV9oMp55OZJh",
        "colab_type": "code",
        "colab": {}
      },
      "source": [
        "#len(list(val_dataset))"
      ],
      "execution_count": 0,
      "outputs": []
    },
    {
      "cell_type": "code",
      "metadata": {
        "id": "OZmhuq8GzikX",
        "colab_type": "code",
        "colab": {}
      },
      "source": [
        "\n",
        "val_dataset = val_dataset.batch(32).repeat()\n",
        "train_dataset = train_dataset.batch(32).repeat()\n",
        "\n",
        "val_osi = tf.compat.v1.data.make_one_shot_iterator(val_dataset)\n",
        "# extract an element\n",
        "val_dataset_next = val_osi.get_next()\n",
        "\n",
        "train_osi = tf.compat.v1.data.make_one_shot_iterator(train_dataset)\n",
        "# extract an element\n",
        "train_dataset_next = train_osi.get_next()"
      ],
      "execution_count": 0,
      "outputs": []
    },
    {
      "cell_type": "code",
      "metadata": {
        "id": "w3wcqMiNzikb",
        "colab_type": "code",
        "outputId": "921b2090-7175-4b84-8a3e-63e927b569e3",
        "colab": {
          "base_uri": "https://localhost:8080/",
          "height": 34
        }
      },
      "source": [
        "train_dataset_next[0].shape"
      ],
      "execution_count": 27,
      "outputs": [
        {
          "output_type": "execute_result",
          "data": {
            "text/plain": [
              "TensorShape([Dimension(None), Dimension(128), Dimension(128), Dimension(3)])"
            ]
          },
          "metadata": {
            "tags": []
          },
          "execution_count": 27
        }
      ]
    },
    {
      "cell_type": "code",
      "metadata": {
        "id": "9WWsJcvWMvXD",
        "colab_type": "code",
        "colab": {}
      },
      "source": [
        ""
      ],
      "execution_count": 0,
      "outputs": []
    },
    {
      "cell_type": "code",
      "metadata": {
        "id": "X51chz6fzike",
        "colab_type": "code",
        "outputId": "2af6fb4e-501b-465e-e1d5-d16340a81aaf",
        "colab": {
          "base_uri": "https://localhost:8080/",
          "height": 34
        }
      },
      "source": [
        "val_dataset"
      ],
      "execution_count": 28,
      "outputs": [
        {
          "output_type": "execute_result",
          "data": {
            "text/plain": [
              "<DatasetV1Adapter shapes: ((?, 128, 128, 3), (?, 2)), types: (tf.float32, tf.bool)>"
            ]
          },
          "metadata": {
            "tags": []
          },
          "execution_count": 28
        }
      ]
    },
    {
      "cell_type": "code",
      "metadata": {
        "id": "2uOp1er9LHhl",
        "colab_type": "code",
        "colab": {}
      },
      "source": [
        "len(list(val_dataset ))"
      ],
      "execution_count": 0,
      "outputs": []
    },
    {
      "cell_type": "code",
      "metadata": {
        "id": "TP69jx3Qzikh",
        "colab_type": "code",
        "colab": {}
      },
      "source": [
        "for image, label in train_dataset.take(1):\n",
        "    print(\"Image shape: \", image.numpy().shape)\n",
        "    print(\"Label: \", label.numpy())"
      ],
      "execution_count": 0,
      "outputs": []
    },
    {
      "cell_type": "code",
      "metadata": {
        "id": "IpfJT8C9zikm",
        "colab_type": "code",
        "colab": {}
      },
      "source": [
        "dx = labeled_ds.batch(32).repeat()"
      ],
      "execution_count": 0,
      "outputs": []
    },
    {
      "cell_type": "code",
      "metadata": {
        "id": "gY-JinC_zikr",
        "colab_type": "code",
        "colab": {}
      },
      "source": [
        "osi = tf.compat.v1.data.make_one_shot_iterator(dx)\n",
        "# extract an element\n",
        "osi_next_element = osi.get_next()"
      ],
      "execution_count": 0,
      "outputs": []
    },
    {
      "cell_type": "code",
      "metadata": {
        "id": "S_zJYaRkzikx",
        "colab_type": "code",
        "colab": {}
      },
      "source": [
        "iterator = dx.make_initializable_iterator()"
      ],
      "execution_count": 0,
      "outputs": []
    },
    {
      "cell_type": "code",
      "metadata": {
        "id": "BEWK2dD4zik0",
        "colab_type": "code",
        "colab": {}
      },
      "source": [
        "next_element = iterator.get_next()"
      ],
      "execution_count": 0,
      "outputs": []
    },
    {
      "cell_type": "code",
      "metadata": {
        "id": "2rq_cAy3zik_",
        "colab_type": "code",
        "colab": {}
      },
      "source": [
        "with tf.Session() as sess:\n",
        "    sess.run(iterator.initializer)\n",
        "    for i in range(100):\n",
        "        val = sess.run(next_element)\n",
        "        print(i)\n",
        "        print(val[0].shape)"
      ],
      "execution_count": 0,
      "outputs": []
    },
    {
      "cell_type": "code",
      "metadata": {
        "id": "M1CcVXJ7zilF",
        "colab_type": "code",
        "colab": {}
      },
      "source": [
        "with tf.Session() as sess:  \n",
        "    #sess.run(osi.initializer)\n",
        "    for i in range(400):\n",
        "        print(i)\n",
        "        val = sess.run(osi_next_element)\n",
        "        print(val[0].shape)"
      ],
      "execution_count": 0,
      "outputs": []
    },
    {
      "cell_type": "markdown",
      "metadata": {
        "id": "Zb5oMHggzilL",
        "colab_type": "text"
      },
      "source": [
        "# Data Batches , shuffleing "
      ]
    },
    {
      "cell_type": "code",
      "metadata": {
        "id": "fWmHm7LxzilP",
        "colab_type": "code",
        "colab": {}
      },
      "source": [
        "def prepare_for_training(ds,cache=True,shuffle_buffer_size=1000):\n",
        "    \n",
        "    # This is a small dataset, only load it once and keep it in memeory.\n",
        "    # use '.cache(filename)' to chache preprocessing work for datasets that don't\n",
        "    # fit in memory\n",
        "    \n",
        "    if cache:\n",
        "        if isinstance(cache,str):\n",
        "            ds = ds.cache(cache)\n",
        "        else:\n",
        "            ds = ds.cache()\n",
        "    ds = ds.shuffle(buffer_size=shuffle_buffer_size)\n",
        "    \n",
        "    # Repeat forever\n",
        "    \n",
        "    ds = ds.repeat()\n",
        "    \n",
        "    ds = ds.batch(BATCH_SIZE)\n",
        "    \n",
        "    # 'prefetch' lets the dataset fetch batches in background while the model\n",
        "    # is training.\n",
        "    \n",
        "    ds = ds.prefetch(buffer_size=AUTOTUNE)\n",
        "    \n",
        "    return ds"
      ],
      "execution_count": 0,
      "outputs": []
    },
    {
      "cell_type": "code",
      "metadata": {
        "id": "lyE0IVgfzilS",
        "colab_type": "code",
        "colab": {}
      },
      "source": [
        "#train_ds = prepare_for_training(labeled_ds,cache=False)\n",
        "\n",
        "#train_dataset = prepare_for_training(train_dataset,cache=False)\n",
        "#val_dataset = prepare_for_training(val_dataset,cache=False)\n",
        "\n",
        "#image_batch, label_batch = next(iter(train_dataset))"
      ],
      "execution_count": 0,
      "outputs": []
    },
    {
      "cell_type": "code",
      "metadata": {
        "id": "RvX9Yu7yzilb",
        "colab_type": "code",
        "outputId": "7f66a957-83e6-4970-9767-58ea8ef529c0",
        "colab": {
          "base_uri": "https://localhost:8080/",
          "height": 34
        }
      },
      "source": [
        "train_dataset"
      ],
      "execution_count": 0,
      "outputs": [
        {
          "output_type": "execute_result",
          "data": {
            "text/plain": [
              "<DatasetV1Adapter shapes: ((?, 128, 128, 3), (?, 2)), types: (tf.float32, tf.bool)>"
            ]
          },
          "metadata": {
            "tags": []
          },
          "execution_count": 23
        }
      ]
    },
    {
      "cell_type": "code",
      "metadata": {
        "id": "DNMGzwvqzilf",
        "colab_type": "code",
        "colab": {}
      },
      "source": [
        "def show_batch(image_batch, label_batch):\n",
        "    plt.figure(figsize=(10,10))\n",
        "    for n in range(25):\n",
        "        ax = plt.subplot(5,5,n+1)\n",
        "        plt.imshow(image_batch[n])\n",
        "        plt.title(CLASS_NAMES_TF[label_batch[n]][0].numpy().decode().title())\n",
        "        plt.axis('off')\n",
        "\n",
        "#show_batch(image_batch.numpy(), label_batch.numpy())"
      ],
      "execution_count": 0,
      "outputs": []
    },
    {
      "cell_type": "markdown",
      "metadata": {
        "id": "sdGQIwzTzilk",
        "colab_type": "text"
      },
      "source": [
        "### Helper-function for plotting images"
      ]
    },
    {
      "cell_type": "code",
      "metadata": {
        "id": "9bK1S0vszilm",
        "colab_type": "code",
        "colab": {}
      },
      "source": [
        "def plot_imgs(imgs,cls_true,cls_pred=None):\n",
        "    \n",
        "    if len(imgs) == 0:\n",
        "        print('No images to show')\n",
        "    else:\n",
        "        random_indeces = random.sample(range(len(imgs)),min(len(imgs),9))\n",
        "        \n",
        "    if cls_pred is not None:\n",
        "        \n",
        "        imgs,cls_true,cls_pred = zip(*[(imgs[i],cls_true[i],cls_pred[i]) for i in random_indeces])\n",
        "                                 \n",
        "    else:\n",
        "        imgs,cls_true = zip(*[(imgs[i],cls_true[i]) for i in random_indeces])\n",
        "        \n",
        "    \n",
        "    # Creationg figure with 3X3 subplots\n",
        "    fig,axes = plt.subplots(3,3)\n",
        "    fig.subplots_adjust(hspace=0.3,wspace = 0.3)\n",
        "    \n",
        "    for i,ax in enumerate(axes.flat):\n",
        "        \n",
        "        ax.imshow(imgs[i])\n",
        "        \n",
        "        # show true and predicted classes\n",
        "        \n",
        "        if cls_pred is None:\n",
        "            xlabel = 'True:{0}'.format(CLASS_NAMES[np.argmax(cls_true[i])])\n",
        "        else:\n",
        "            xlabel = 'True:{0}, Pred:{1}'.format(cls_true[i],cls_pred[i])\n",
        "            \n",
        "        # Show the classes as the label on the x axis   \n",
        "        ax.set_xlabel(xlabel)\n",
        "        \n",
        "        # remove ticks from the plot\n",
        "        ax.set_xticks([])\n",
        "        ax.set_yticks([])\n",
        "        \n",
        "    # Ensure the plot is shown correctly with multiple plots\n",
        "    # in a single Notebook cell.\n",
        "    plt.show()\n",
        "    "
      ],
      "execution_count": 0,
      "outputs": []
    },
    {
      "cell_type": "code",
      "metadata": {
        "id": "axTBA_dzzils",
        "colab_type": "code",
        "colab": {}
      },
      "source": [
        ""
      ],
      "execution_count": 0,
      "outputs": []
    },
    {
      "cell_type": "code",
      "metadata": {
        "id": "pxydjJsgzil0",
        "colab_type": "code",
        "colab": {}
      },
      "source": [
        ""
      ],
      "execution_count": 0,
      "outputs": []
    },
    {
      "cell_type": "code",
      "metadata": {
        "id": "AzsdW--RzimA",
        "colab_type": "code",
        "colab": {}
      },
      "source": [
        "#plot_imgs(image_batch.numpy(),label_batch)"
      ],
      "execution_count": 0,
      "outputs": []
    },
    {
      "cell_type": "code",
      "metadata": {
        "id": "cBsvQ2lkzimF",
        "colab_type": "code",
        "colab": {}
      },
      "source": [
        ""
      ],
      "execution_count": 0,
      "outputs": []
    },
    {
      "cell_type": "markdown",
      "metadata": {
        "id": "49JXeRN7zimN",
        "colab_type": "text"
      },
      "source": [
        "# Configuration and Hyperparameters"
      ]
    },
    {
      "cell_type": "code",
      "metadata": {
        "id": "Sy3ZiyCizimP",
        "colab_type": "code",
        "colab": {}
      },
      "source": [
        "## Convolutional Layer 1\n",
        "filter_size1 = 3\n",
        "num_filters1 = 32\n",
        "\n",
        "# Convolutional Layer 2\n",
        "filter_size2 = 3\n",
        "num_filters2 = 32\n",
        "\n",
        "#Convolutional Layer 3\n",
        "filter_size3 = 3\n",
        "num_filters3 = 64\n",
        "\n",
        "#Fully-connected layer\n",
        "fc_size = 128    # Number of neurons in fully-connected layer.\n",
        "\n",
        "#Number of color channales for the images: \n",
        "num_channels = 3\n",
        "\n",
        "# image dimensions\n",
        "img_width = 128\n",
        "img_hight =128\n",
        "img_size = 128\n",
        "\n",
        "\n",
        "# Size of image when flattened to a single dimension\n",
        "img_size_flat = img_size * img_size * num_channels\n",
        "\n",
        "# Tuple with height and width of images used to reshape arrays.\n",
        "img_shape = (img_size,img_size)\n",
        "\n",
        "#class info\n",
        "classes = ['dogs','cats']\n",
        "num_classes = len(classes)\n",
        "\n",
        "# batch size\n",
        "batch_size = 32\n",
        "\n",
        "#validation split\n",
        "validation_size = 0.16\n",
        "\n",
        "# How long to wait after valication loss stops imporving before terminating\n",
        "early_stopping = None # use None if you don't want to implement early stoping\n",
        "\n"
      ],
      "execution_count": 0,
      "outputs": []
    },
    {
      "cell_type": "markdown",
      "metadata": {
        "id": "MPSPFWZZzimU",
        "colab_type": "text"
      },
      "source": [
        "### Helper-functions for creating new variables"
      ]
    },
    {
      "cell_type": "code",
      "metadata": {
        "id": "62kxGMU7zimW",
        "colab_type": "code",
        "colab": {}
      },
      "source": [
        "def new_weights(shape):\n",
        "    return tf.Variable(tf.truncated_normal(stddev=0.05,shape=shape))\n",
        "\n",
        "def new_baises(length):\n",
        "    return tf.Variable(tf.constant(0.05, shape=[length]))"
      ],
      "execution_count": 0,
      "outputs": []
    },
    {
      "cell_type": "markdown",
      "metadata": {
        "id": "Dw3fSBlFzimb",
        "colab_type": "text"
      },
      "source": [
        "### Helper-function for creating a new Convolutional Layer"
      ]
    },
    {
      "cell_type": "code",
      "metadata": {
        "id": "Jlw2u5Jfzimc",
        "colab_type": "code",
        "colab": {}
      },
      "source": [
        "def new_conv_layer(input,               # The previous layer\n",
        "                   num_input_channels,  # Num of channels in previous layer\n",
        "                   filter_size,         # Width and hight of each filter\n",
        "                   num_filters,          # Num of filters\n",
        "                   use_pooling=True,    # Use 2X2 max pooling\n",
        "                  ):\n",
        "    \n",
        "    # Shape of filter weight for convolution\n",
        "    # This format is determind by the tensorflow\n",
        "    shape = [img_size,img_size,num_input_channels,num_filters]\n",
        "    \n",
        "    # Create new weights aka. filters with the given shape.\n",
        "    weights = new_weights(shape=shape)\n",
        "    \n",
        "    \n",
        "    # Create new biases, one for each filter.\n",
        "    biases = new_baises(length=num_filters)\n",
        "    \n",
        "    #tf convolution layer\n",
        "    layer = tf.nn.conv2d(input = input,   \n",
        "                         filters = weights,\n",
        "                         strides =[1,1,1,1],\n",
        "                         padding = 'SAME',     \n",
        "                         )\n",
        "    \n",
        "    layer += biases\n",
        "    \n",
        "    if use_pooling:\n",
        "        \n",
        "        layer = tf.nn.max_pool(value=layer,\n",
        "                               ksize=[1, 2, 2, 1],\n",
        "                               strides=[1, 2, 2, 1],\n",
        "                               padding='SAME')\n",
        "    \n",
        "    # Rectified Linear Unit (ReLU).\n",
        "    layer = tf.nn.relu(layer)\n",
        "    \n",
        "    # We return both the resulting layer and the filter-weights\n",
        "    # because we will plot the weights later.\n",
        "    return layer, weights\n"
      ],
      "execution_count": 0,
      "outputs": []
    },
    {
      "cell_type": "markdown",
      "metadata": {
        "id": "2WWu4zmyzimh",
        "colab_type": "text"
      },
      "source": [
        "### Helper-function for flattening a layer"
      ]
    },
    {
      "cell_type": "code",
      "metadata": {
        "id": "ETn9KC4Izimi",
        "colab_type": "code",
        "colab": {}
      },
      "source": [
        "def flatten_layer(layer):\n",
        "    \n",
        "    #get the shape of the input layer\n",
        "    layer_shape = layer.get_shape()\n",
        "    \n",
        "    # The shape of the input layer is assumed to be:\n",
        "    # layer_shape == [num_images, img_height, img_width, num_channels]\n",
        "\n",
        "    # The number of features is: img_height * img_width * num_channels\n",
        "    # We can use a function from TensorFlow to calculate this.\n",
        "    num_features = layer_shape[1:4].num_elements()\n",
        "    \n",
        "    #If one component of shape is the special value -1, \n",
        "    #the size of that dimension is computed so that the total size remains constant. \n",
        "    #In particular, a shape of [-1] flattens into 1-D. At most one component of shape can be -1.\n",
        "    \n",
        "    # Reshape the layer to [num_images, num_features].\n",
        "    # Note that we just set the size of the second dimension\n",
        "    # to num_features and the size of the first dimension to -1\n",
        "    # which means the size in that dimension is calculated\n",
        "    # so the total size of the tensor is unchanged from the reshaping.\n",
        "    \n",
        "    layer_flat = tf.reshape(layer, [-1, num_features])\n",
        "    \n",
        "    # The shape of the flattened layer is now:\n",
        "    # [num_images, img_height * img_width * num_channels]\n",
        "\n",
        "    # Return both the flattened layer and the number of features.\n",
        "    return layer_flat, num_features\n",
        "    \n",
        "    "
      ],
      "execution_count": 0,
      "outputs": []
    },
    {
      "cell_type": "markdown",
      "metadata": {
        "id": "1d3In1guziml",
        "colab_type": "text"
      },
      "source": [
        "### Helper-function for creating a new Fully-Connected Layer"
      ]
    },
    {
      "cell_type": "code",
      "metadata": {
        "id": "QLFmRdnWzimm",
        "colab_type": "code",
        "colab": {}
      },
      "source": [
        "def new_fc_layer(input,input_size,output_size,use_relu=True):\n",
        "    \n",
        "    shape = [input_size,output_size]\n",
        "    \n",
        "    weights = new_weights(shape=shape)\n",
        "    \n",
        "    biases = new_baises(output_size)\n",
        "    \n",
        "    # Calculate the layer as the matrix multiplication of\n",
        "    # the input and weights, and then add the bias-values.\n",
        "    layer = tf.matmul(input, weights) + biases\n",
        "\n",
        "    # Use ReLU?\n",
        "    if use_relu:\n",
        "        layer = tf.nn.relu(layer)\n",
        "\n",
        "    return layer\n"
      ],
      "execution_count": 0,
      "outputs": []
    },
    {
      "cell_type": "markdown",
      "metadata": {
        "id": "DzP4yFHSzimp",
        "colab_type": "text"
      },
      "source": [
        "### Placeholder variables"
      ]
    },
    {
      "cell_type": "code",
      "metadata": {
        "id": "_Uo9QkgOzimq",
        "colab_type": "code",
        "colab": {}
      },
      "source": [
        "#tf.compat.v1.disable_eager_execution()"
      ],
      "execution_count": 0,
      "outputs": []
    },
    {
      "cell_type": "code",
      "metadata": {
        "id": "zlMB4sztzimt",
        "colab_type": "code",
        "colab": {}
      },
      "source": [
        "x = tf.placeholder(dtype=tf.float32,shape=[None,img_size_flat],name='x')"
      ],
      "execution_count": 0,
      "outputs": []
    },
    {
      "cell_type": "code",
      "metadata": {
        "id": "D2eyws16zimy",
        "colab_type": "code",
        "outputId": "3eb77ad7-4c42-42c9-fce8-42504002d585",
        "colab": {
          "base_uri": "https://localhost:8080/",
          "height": 34
        }
      },
      "source": [
        "x"
      ],
      "execution_count": 41,
      "outputs": [
        {
          "output_type": "execute_result",
          "data": {
            "text/plain": [
              "<tf.Tensor 'x:0' shape=(?, 49152) dtype=float32>"
            ]
          },
          "metadata": {
            "tags": []
          },
          "execution_count": 41
        }
      ]
    },
    {
      "cell_type": "code",
      "metadata": {
        "id": "fRRW9xLpzim1",
        "colab_type": "code",
        "colab": {}
      },
      "source": [
        "x_image = tf.reshape(x,[-1, img_size, img_size, num_channels])"
      ],
      "execution_count": 0,
      "outputs": []
    },
    {
      "cell_type": "code",
      "metadata": {
        "id": "ut5RYE6Xzim3",
        "colab_type": "code",
        "outputId": "9d832636-58dc-4ee8-e5b2-52bdb443d7ad",
        "colab": {
          "base_uri": "https://localhost:8080/",
          "height": 34
        }
      },
      "source": [
        "x_image"
      ],
      "execution_count": 43,
      "outputs": [
        {
          "output_type": "execute_result",
          "data": {
            "text/plain": [
              "<tf.Tensor 'Reshape:0' shape=(?, 128, 128, 3) dtype=float32>"
            ]
          },
          "metadata": {
            "tags": []
          },
          "execution_count": 43
        }
      ]
    },
    {
      "cell_type": "code",
      "metadata": {
        "id": "XD02REFczinB",
        "colab_type": "code",
        "colab": {}
      },
      "source": [
        "y_true = tf.placeholder(dtype=tf.float32,shape=[None,num_classes],name='y_true')"
      ],
      "execution_count": 0,
      "outputs": []
    },
    {
      "cell_type": "code",
      "metadata": {
        "id": "l5dz_ZtozinH",
        "colab_type": "code",
        "colab": {}
      },
      "source": [
        "y_true_cls = tf.argmax(y_true,axis=1)"
      ],
      "execution_count": 0,
      "outputs": []
    },
    {
      "cell_type": "markdown",
      "metadata": {
        "id": "eWg2XwJkzinK",
        "colab_type": "text"
      },
      "source": [
        "### Convolutional Layer 1"
      ]
    },
    {
      "cell_type": "code",
      "metadata": {
        "id": "i4vhA23JzinN",
        "colab_type": "code",
        "colab": {}
      },
      "source": [
        ""
      ],
      "execution_count": 0,
      "outputs": []
    },
    {
      "cell_type": "code",
      "metadata": {
        "id": "EHFBZeGxzinS",
        "colab_type": "code",
        "outputId": "a6bc6aa2-39df-43bb-88f4-70af428b1282",
        "colab": {
          "base_uri": "https://localhost:8080/",
          "height": 34
        }
      },
      "source": [
        "x_image"
      ],
      "execution_count": 46,
      "outputs": [
        {
          "output_type": "execute_result",
          "data": {
            "text/plain": [
              "<tf.Tensor 'Reshape:0' shape=(?, 128, 128, 3) dtype=float32>"
            ]
          },
          "metadata": {
            "tags": []
          },
          "execution_count": 46
        }
      ]
    },
    {
      "cell_type": "code",
      "metadata": {
        "id": "54ShOZ-szinW",
        "colab_type": "code",
        "colab": {}
      },
      "source": [
        "layer_conv1,weights_conv1 = new_conv_layer(input= x_image,\n",
        "                                            num_input_channels=num_channels,\n",
        "                                            filter_size=filter_size1,\n",
        "                                            num_filters=num_filters1)"
      ],
      "execution_count": 0,
      "outputs": []
    },
    {
      "cell_type": "code",
      "metadata": {
        "id": "eHI0fqwHzina",
        "colab_type": "code",
        "outputId": "52538b2a-25f1-4982-dafe-56da815066c5",
        "colab": {
          "base_uri": "https://localhost:8080/",
          "height": 51
        }
      },
      "source": [
        "layer_conv1,weights_conv1"
      ],
      "execution_count": 48,
      "outputs": [
        {
          "output_type": "execute_result",
          "data": {
            "text/plain": [
              "(<tf.Tensor 'Relu:0' shape=(?, 64, 64, 32) dtype=float32>,\n",
              " <tf.Variable 'Variable:0' shape=(128, 128, 3, 32) dtype=float32_ref>)"
            ]
          },
          "metadata": {
            "tags": []
          },
          "execution_count": 48
        }
      ]
    },
    {
      "cell_type": "markdown",
      "metadata": {
        "id": "f81YwrMlzinf",
        "colab_type": "text"
      },
      "source": [
        "### Convolutional Layers 2 and 3"
      ]
    },
    {
      "cell_type": "code",
      "metadata": {
        "id": "d8m8HAWEzinh",
        "colab_type": "code",
        "colab": {}
      },
      "source": [
        "layer_conv2, weights_conv2 = \\\n",
        "    new_conv_layer(input=layer_conv1,\n",
        "                   num_input_channels=num_filters1,\n",
        "                   filter_size=filter_size2,\n",
        "                   num_filters=num_filters2,\n",
        "                   use_pooling=True)"
      ],
      "execution_count": 0,
      "outputs": []
    },
    {
      "cell_type": "code",
      "metadata": {
        "id": "p7CIRveFzino",
        "colab_type": "code",
        "outputId": "099fc390-baa6-46b5-93d6-fed2b0d566c1",
        "colab": {
          "base_uri": "https://localhost:8080/",
          "height": 34
        }
      },
      "source": [
        "layer_conv2"
      ],
      "execution_count": 50,
      "outputs": [
        {
          "output_type": "execute_result",
          "data": {
            "text/plain": [
              "<tf.Tensor 'Relu_1:0' shape=(?, 32, 32, 32) dtype=float32>"
            ]
          },
          "metadata": {
            "tags": []
          },
          "execution_count": 50
        }
      ]
    },
    {
      "cell_type": "code",
      "metadata": {
        "id": "hOFXuZGZzinx",
        "colab_type": "code",
        "colab": {}
      },
      "source": [
        "layer_conv3, weights_conv3 = \\\n",
        "    new_conv_layer(input=layer_conv2,\n",
        "                   num_input_channels=num_filters2,\n",
        "                   filter_size=filter_size3,\n",
        "                   num_filters=num_filters3,\n",
        "                   use_pooling=True)"
      ],
      "execution_count": 0,
      "outputs": []
    },
    {
      "cell_type": "code",
      "metadata": {
        "id": "u4R1TK4vzin2",
        "colab_type": "code",
        "outputId": "f9019141-9306-4987-ad2d-e4bc645adf5a",
        "colab": {
          "base_uri": "https://localhost:8080/",
          "height": 34
        }
      },
      "source": [
        "layer_conv3"
      ],
      "execution_count": 52,
      "outputs": [
        {
          "output_type": "execute_result",
          "data": {
            "text/plain": [
              "<tf.Tensor 'Relu_2:0' shape=(?, 16, 16, 64) dtype=float32>"
            ]
          },
          "metadata": {
            "tags": []
          },
          "execution_count": 52
        }
      ]
    },
    {
      "cell_type": "markdown",
      "metadata": {
        "id": "ypyWU0Rtzin6",
        "colab_type": "text"
      },
      "source": [
        "### Flatten Layer"
      ]
    },
    {
      "cell_type": "code",
      "metadata": {
        "id": "0K_LWm0wzin7",
        "colab_type": "code",
        "colab": {}
      },
      "source": [
        "layer_flat, num_features = flatten_layer(layer_conv3)"
      ],
      "execution_count": 0,
      "outputs": []
    },
    {
      "cell_type": "code",
      "metadata": {
        "id": "_HziBAG2zin_",
        "colab_type": "code",
        "outputId": "0fed07cb-e129-47ac-be61-b4d34eb913d5",
        "colab": {
          "base_uri": "https://localhost:8080/",
          "height": 34
        }
      },
      "source": [
        "layer_flat, num_features"
      ],
      "execution_count": 54,
      "outputs": [
        {
          "output_type": "execute_result",
          "data": {
            "text/plain": [
              "(<tf.Tensor 'Reshape_1:0' shape=(?, 16384) dtype=float32>, 16384)"
            ]
          },
          "metadata": {
            "tags": []
          },
          "execution_count": 54
        }
      ]
    },
    {
      "cell_type": "code",
      "metadata": {
        "id": "lz472tfDzioE",
        "colab_type": "code",
        "outputId": "79d3be78-171d-47d3-e411-b0d0438498fd",
        "colab": {
          "base_uri": "https://localhost:8080/",
          "height": 34
        }
      },
      "source": [
        "16*16*64"
      ],
      "execution_count": 55,
      "outputs": [
        {
          "output_type": "execute_result",
          "data": {
            "text/plain": [
              "16384"
            ]
          },
          "metadata": {
            "tags": []
          },
          "execution_count": 55
        }
      ]
    },
    {
      "cell_type": "markdown",
      "metadata": {
        "id": "qaQGZMPfzioK",
        "colab_type": "text"
      },
      "source": [
        "### Fully-Connected Layer 1"
      ]
    },
    {
      "cell_type": "code",
      "metadata": {
        "id": "p8_uiFkhzioL",
        "colab_type": "code",
        "colab": {}
      },
      "source": [
        "layer_fc1 = new_fc_layer(input=layer_flat,\n",
        "                         input_size=num_features,\n",
        "                         output_size=fc_size,\n",
        "                         use_relu=True)"
      ],
      "execution_count": 0,
      "outputs": []
    },
    {
      "cell_type": "code",
      "metadata": {
        "id": "DEB2DAazzioQ",
        "colab_type": "code",
        "outputId": "5c945942-dadb-4865-b646-fcda644a1c43",
        "colab": {
          "base_uri": "https://localhost:8080/",
          "height": 34
        }
      },
      "source": [
        "layer_fc1"
      ],
      "execution_count": 57,
      "outputs": [
        {
          "output_type": "execute_result",
          "data": {
            "text/plain": [
              "<tf.Tensor 'Relu_3:0' shape=(?, 128) dtype=float32>"
            ]
          },
          "metadata": {
            "tags": []
          },
          "execution_count": 57
        }
      ]
    },
    {
      "cell_type": "code",
      "metadata": {
        "id": "wzZo0wADzioU",
        "colab_type": "code",
        "colab": {}
      },
      "source": [
        ""
      ],
      "execution_count": 0,
      "outputs": []
    },
    {
      "cell_type": "markdown",
      "metadata": {
        "id": "vnvz2oBQzioX",
        "colab_type": "text"
      },
      "source": [
        "### Fully-Connected Layer 2"
      ]
    },
    {
      "cell_type": "code",
      "metadata": {
        "id": "DlGV4sZEzioZ",
        "colab_type": "code",
        "colab": {}
      },
      "source": [
        "layer_fc2 = new_fc_layer(input=layer_fc1,\n",
        "                         input_size=fc_size,\n",
        "                         output_size=32,\n",
        "                         use_relu=False)"
      ],
      "execution_count": 0,
      "outputs": []
    },
    {
      "cell_type": "code",
      "metadata": {
        "id": "eQvmq9F1zioc",
        "colab_type": "code",
        "colab": {}
      },
      "source": [
        "layer_fc2 = new_fc_layer(input=layer_fc1,\n",
        "                         input_size=fc_size,\n",
        "                         output_size=num_classes,\n",
        "                         use_relu=False)"
      ],
      "execution_count": 0,
      "outputs": []
    },
    {
      "cell_type": "code",
      "metadata": {
        "id": "i3ai7oP3ziog",
        "colab_type": "code",
        "outputId": "81d8593f-2fcb-41ea-f859-9e50889f164d",
        "colab": {
          "base_uri": "https://localhost:8080/",
          "height": 34
        }
      },
      "source": [
        "layer_fc2"
      ],
      "execution_count": 59,
      "outputs": [
        {
          "output_type": "execute_result",
          "data": {
            "text/plain": [
              "<tf.Tensor 'add_4:0' shape=(?, 2) dtype=float32>"
            ]
          },
          "metadata": {
            "tags": []
          },
          "execution_count": 59
        }
      ]
    },
    {
      "cell_type": "markdown",
      "metadata": {
        "id": "IjIrMvCmziop",
        "colab_type": "text"
      },
      "source": [
        "### Fully-Connected Layer 3"
      ]
    },
    {
      "cell_type": "code",
      "metadata": {
        "id": "yJpRn0UBziop",
        "colab_type": "code",
        "colab": {}
      },
      "source": [
        "layer_fc3 = new_fc_layer(input=layer_fc2,\n",
        "                         input_size=32,\n",
        "                         output_size=2,\n",
        "                         use_relu=False)"
      ],
      "execution_count": 0,
      "outputs": []
    },
    {
      "cell_type": "code",
      "metadata": {
        "id": "Qj50vix2zior",
        "colab_type": "code",
        "colab": {}
      },
      "source": [
        "layer_fc3"
      ],
      "execution_count": 0,
      "outputs": []
    },
    {
      "cell_type": "markdown",
      "metadata": {
        "id": "6LEoa6ONziou",
        "colab_type": "text"
      },
      "source": [
        "### Predicted Class"
      ]
    },
    {
      "cell_type": "code",
      "metadata": {
        "id": "xLs4t_-7ziou",
        "colab_type": "code",
        "colab": {}
      },
      "source": [
        "y_pred = tf.nn.softmax(layer_fc2)"
      ],
      "execution_count": 0,
      "outputs": []
    },
    {
      "cell_type": "code",
      "metadata": {
        "id": "bhhXC-bUzioz",
        "colab_type": "code",
        "colab": {}
      },
      "source": [
        "y_pred_cls = tf.argmax(y_pred, axis=1)"
      ],
      "execution_count": 0,
      "outputs": []
    },
    {
      "cell_type": "markdown",
      "metadata": {
        "id": "K_vKEnhEzio3",
        "colab_type": "text"
      },
      "source": [
        "### Cost-function to be optimized"
      ]
    },
    {
      "cell_type": "code",
      "metadata": {
        "id": "jHkFoYYrzio4",
        "colab_type": "code",
        "colab": {}
      },
      "source": [
        "cross_entropy = tf.nn.softmax_cross_entropy_with_logits_v2(logits=layer_fc2, labels=y_true)"
      ],
      "execution_count": 0,
      "outputs": []
    },
    {
      "cell_type": "code",
      "metadata": {
        "id": "XVta40o9zio6",
        "colab_type": "code",
        "colab": {}
      },
      "source": [
        "cost = tf.reduce_mean(cross_entropy)"
      ],
      "execution_count": 0,
      "outputs": []
    },
    {
      "cell_type": "markdown",
      "metadata": {
        "id": "SkBof12Yzio8",
        "colab_type": "text"
      },
      "source": [
        "### Optimization Method"
      ]
    },
    {
      "cell_type": "code",
      "metadata": {
        "id": "2Y4dtpojzio8",
        "colab_type": "code",
        "colab": {}
      },
      "source": [
        "optimizer = tf.train.AdamOptimizer(learning_rate=1e-4).minimize(cost)"
      ],
      "execution_count": 0,
      "outputs": []
    },
    {
      "cell_type": "markdown",
      "metadata": {
        "id": "NTS37lHdzio_",
        "colab_type": "text"
      },
      "source": [
        "### Performance Measures"
      ]
    },
    {
      "cell_type": "code",
      "metadata": {
        "id": "EeYzDiBRzipA",
        "colab_type": "code",
        "colab": {}
      },
      "source": [
        "correct_prediction = tf.equal(y_pred_cls, y_true_cls)"
      ],
      "execution_count": 0,
      "outputs": []
    },
    {
      "cell_type": "code",
      "metadata": {
        "id": "ivazoOj-zipD",
        "colab_type": "code",
        "colab": {}
      },
      "source": [
        "accuracy = tf.reduce_mean(tf.cast(correct_prediction, tf.float32))"
      ],
      "execution_count": 0,
      "outputs": []
    },
    {
      "cell_type": "markdown",
      "metadata": {
        "id": "-YlFJtsLzipH",
        "colab_type": "text"
      },
      "source": [
        "### Create TensorFlow session"
      ]
    },
    {
      "cell_type": "code",
      "metadata": {
        "id": "53mpI9VlzipJ",
        "colab_type": "code",
        "colab": {}
      },
      "source": [
        "session = tf.Session()"
      ],
      "execution_count": 0,
      "outputs": []
    },
    {
      "cell_type": "code",
      "metadata": {
        "id": "HG7FIx-mzipL",
        "colab_type": "code",
        "colab": {}
      },
      "source": [
        "#Initialize variables\n",
        "session = tf.Session()\n",
        "session.run(tf.global_variables_initializer())"
      ],
      "execution_count": 0,
      "outputs": []
    },
    {
      "cell_type": "markdown",
      "metadata": {
        "id": "zTA00NCAzipV",
        "colab_type": "text"
      },
      "source": [
        "### Helper-function to perform optimization iterations"
      ]
    },
    {
      "cell_type": "code",
      "metadata": {
        "id": "jvDJV6onzipW",
        "colab_type": "code",
        "outputId": "a4f98a2b-834a-4753-f71e-02da82e2e2dc",
        "colab": {
          "base_uri": "https://localhost:8080/",
          "height": 34
        }
      },
      "source": [
        "batch_size"
      ],
      "execution_count": 67,
      "outputs": [
        {
          "output_type": "execute_result",
          "data": {
            "text/plain": [
              "32"
            ]
          },
          "metadata": {
            "tags": []
          },
          "execution_count": 67
        }
      ]
    },
    {
      "cell_type": "code",
      "metadata": {
        "id": "5-leA2fBzipc",
        "colab_type": "code",
        "colab": {}
      },
      "source": [
        ""
      ],
      "execution_count": 0,
      "outputs": []
    },
    {
      "cell_type": "code",
      "metadata": {
        "id": "phIdp51Czipf",
        "colab_type": "code",
        "outputId": "d3bbd896-dec9-49aa-a7dd-611554a8ab0a",
        "colab": {
          "base_uri": "https://localhost:8080/",
          "height": 34
        }
      },
      "source": [
        "num_batches = int(7000/batch_size)\n",
        "num_batches"
      ],
      "execution_count": 68,
      "outputs": [
        {
          "output_type": "execute_result",
          "data": {
            "text/plain": [
              "218"
            ]
          },
          "metadata": {
            "tags": []
          },
          "execution_count": 68
        }
      ]
    },
    {
      "cell_type": "code",
      "metadata": {
        "id": "d_4dnMz4ziph",
        "colab_type": "code",
        "outputId": "6de7716b-459d-42d8-c5dc-c1d3bd36a328",
        "colab": {
          "base_uri": "https://localhost:8080/",
          "height": 34
        }
      },
      "source": [
        "epochs = 100\n",
        "epochs"
      ],
      "execution_count": 69,
      "outputs": [
        {
          "output_type": "execute_result",
          "data": {
            "text/plain": [
              "100"
            ]
          },
          "metadata": {
            "tags": []
          },
          "execution_count": 69
        }
      ]
    },
    {
      "cell_type": "code",
      "metadata": {
        "id": "t4l5At4hzipk",
        "colab_type": "code",
        "colab": {}
      },
      "source": [
        ""
      ],
      "execution_count": 0,
      "outputs": []
    },
    {
      "cell_type": "code",
      "metadata": {
        "id": "HTLtZs_Azipm",
        "colab_type": "code",
        "colab": {}
      },
      "source": [
        "def print_progress(epoch,feed_dict_train,feed_dict_validation,val_loss):\n",
        "    \n",
        "    #calculate the accuracy on the training set\n",
        "    \n",
        "    acc = session.run(accuracy, feed_dict=feed_dict_train)\n",
        "    val_acc = session.run(accuracy,feed_dict=feed_dict_validation)\n",
        "    \n",
        "    msg = \"Epoch {0} ---Training Accuracy: {1:>6.1%}, Validation Accuracy: {2:>6.1%}, Validation Loss: {3:.3f}\"\n",
        "    \n",
        "    print(msg.format(epoch + 1, acc, val_acc, val_loss))\n",
        "    \n",
        "    \n",
        "    "
      ],
      "execution_count": 0,
      "outputs": []
    },
    {
      "cell_type": "code",
      "metadata": {
        "id": "LzHra3wZzipp",
        "colab_type": "code",
        "colab": {}
      },
      "source": [
        "# Counter for total number of iterations performed so for\n",
        "\n",
        "total_iterations = 0\n",
        "\n",
        "def optimize(epochs):\n",
        "    \n",
        "    # Ensure we update the global variable rather than a local copy.\n",
        "    #global total_iterations\n",
        "    \n",
        "    # Start-time used for printing time-usage below.\n",
        "    start_time = time.time()\n",
        "    \n",
        "    best_val_loss = float('inf')\n",
        "    patience = 0\n",
        "    \n",
        "    for epoch in range(epochs):\n",
        "        \n",
        "    \n",
        "        for i in range(num_batches):\n",
        "\n",
        "            print(i)\n",
        "\n",
        "            #Get a batch of training examples.\n",
        "            \n",
        "            image_batch_train, label_batch_train =session.run(train_dataset_next)\n",
        "\n",
        "            feed_dict_train = {x_image: image_batch_train,\n",
        "                               y_true: label_batch_train}\n",
        "            \n",
        "            session.run(optimizer, feed_dict=feed_dict_train)\n",
        "\n",
        "            #train_acc = session.run(fetches=[accuracy], feed_dict=feed_dict_train)\n",
        "\n",
        "        # loss and accuracy for each epoch..\n",
        "\n",
        "        image_batch_val, label_batch_val = session.run(val_dataset_next)\n",
        "\n",
        "        feed_dict_validate = {x_image: image_batch_val,y_true: label_batch_val}\n",
        "\n",
        "        val_loss = session.run(fetches=[cost], feed_dict=feed_dict_validate)\n",
        "        train_acc = session.run(fetches=[accuracy], feed_dict=feed_dict_train)\n",
        "        val_acc  = session.run(fetches=[accuracy], feed_dict=feed_dict_validate)\n",
        "        \n",
        "        print(f'Epoch:{epoch} | Train Acc:{train_acc} | Validation acc:{val_acc}| val_loss:{val_loss}')\n"
      ],
      "execution_count": 0,
      "outputs": []
    },
    {
      "cell_type": "code",
      "metadata": {
        "id": "donXcQoOzipr",
        "colab_type": "code",
        "colab": {
          "base_uri": "https://localhost:8080/",
          "height": 1000
        },
        "outputId": "9f26535a-2bc4-4177-a2c6-32083d980e14"
      },
      "source": [
        "#Initialize variables\n",
        "session = tf.Session()\n",
        "session.run(tf.global_variables_initializer())\n",
        "\n",
        "optimize(10)"
      ],
      "execution_count": 0,
      "outputs": [
        {
          "output_type": "stream",
          "text": [
            "0\n",
            "1\n",
            "2\n",
            "3\n",
            "4\n",
            "5\n",
            "6\n",
            "7\n",
            "8\n",
            "9\n",
            "10\n",
            "11\n",
            "12\n",
            "13\n",
            "14\n",
            "15\n",
            "16\n",
            "17\n",
            "18\n",
            "19\n",
            "20\n",
            "21\n",
            "22\n",
            "23\n",
            "24\n",
            "25\n",
            "26\n",
            "27\n",
            "28\n",
            "29\n",
            "30\n",
            "31\n",
            "32\n",
            "33\n",
            "34\n",
            "35\n",
            "36\n",
            "37\n",
            "38\n",
            "39\n",
            "40\n",
            "41\n",
            "42\n",
            "43\n",
            "44\n",
            "45\n",
            "46\n",
            "47\n",
            "48\n",
            "49\n",
            "50\n",
            "51\n",
            "52\n",
            "53\n",
            "54\n",
            "55\n",
            "56\n",
            "57\n",
            "58\n",
            "59\n",
            "60\n",
            "61\n",
            "62\n",
            "63\n",
            "64\n",
            "65\n",
            "66\n",
            "67\n",
            "68\n",
            "69\n",
            "70\n",
            "71\n",
            "72\n",
            "73\n",
            "74\n",
            "75\n",
            "76\n",
            "77\n",
            "78\n",
            "79\n",
            "80\n",
            "81\n",
            "82\n",
            "83\n",
            "84\n",
            "85\n",
            "86\n",
            "87\n",
            "88\n",
            "89\n",
            "90\n",
            "91\n",
            "92\n",
            "93\n",
            "94\n",
            "95\n",
            "96\n",
            "97\n",
            "98\n",
            "99\n",
            "100\n",
            "101\n",
            "102\n",
            "103\n",
            "104\n",
            "105\n",
            "106\n",
            "107\n",
            "108\n",
            "109\n",
            "110\n",
            "111\n",
            "112\n",
            "113\n",
            "114\n",
            "115\n",
            "116\n",
            "117\n",
            "118\n",
            "119\n",
            "120\n",
            "121\n",
            "122\n",
            "123\n",
            "124\n",
            "125\n",
            "126\n",
            "127\n",
            "128\n",
            "129\n",
            "130\n",
            "131\n",
            "132\n",
            "133\n",
            "134\n",
            "135\n",
            "136\n",
            "137\n",
            "138\n",
            "139\n",
            "140\n",
            "141\n",
            "142\n",
            "143\n",
            "144\n",
            "145\n",
            "146\n",
            "147\n",
            "148\n",
            "149\n",
            "150\n",
            "151\n",
            "152\n",
            "153\n",
            "154\n",
            "155\n",
            "156\n",
            "157\n",
            "158\n",
            "159\n",
            "160\n",
            "161\n",
            "162\n",
            "163\n",
            "164\n",
            "165\n",
            "166\n",
            "167\n",
            "168\n",
            "169\n",
            "170\n",
            "171\n",
            "172\n",
            "173\n",
            "174\n",
            "175\n",
            "176\n",
            "177\n",
            "178\n",
            "179\n",
            "180\n",
            "181\n",
            "182\n",
            "183\n",
            "184\n",
            "185\n",
            "186\n",
            "187\n",
            "188\n",
            "189\n",
            "190\n",
            "191\n",
            "192\n",
            "193\n",
            "194\n",
            "195\n",
            "196\n",
            "197\n",
            "198\n",
            "199\n",
            "200\n",
            "201\n",
            "202\n",
            "203\n",
            "204\n",
            "205\n",
            "206\n",
            "207\n",
            "208\n",
            "209\n",
            "210\n",
            "211\n",
            "212\n",
            "213\n",
            "214\n",
            "215\n",
            "216\n",
            "217\n",
            "Epoch:0 | Train Acc:[0.46875] | Validation loss:[0.625]| val_loss:[0.96584135]\n",
            "0\n",
            "1\n",
            "2\n",
            "3\n",
            "4\n",
            "5\n",
            "6\n",
            "7\n",
            "8\n",
            "9\n",
            "10\n",
            "11\n",
            "12\n",
            "13\n",
            "14\n",
            "15\n",
            "16\n",
            "17\n",
            "18\n",
            "19\n",
            "20\n",
            "21\n",
            "22\n",
            "23\n",
            "24\n",
            "25\n",
            "26\n",
            "27\n",
            "28\n",
            "29\n",
            "30\n",
            "31\n",
            "32\n",
            "33\n",
            "34\n",
            "35\n",
            "36\n",
            "37\n",
            "38\n",
            "39\n",
            "40\n",
            "41\n",
            "42\n",
            "43\n",
            "44\n",
            "45\n",
            "46\n",
            "47\n",
            "48\n",
            "49\n",
            "50\n",
            "51\n",
            "52\n",
            "53\n",
            "54\n",
            "55\n",
            "56\n",
            "57\n",
            "58\n",
            "59\n"
          ],
          "name": "stdout"
        }
      ]
    },
    {
      "cell_type": "code",
      "metadata": {
        "id": "t85JxIxo9oKm",
        "colab_type": "code",
        "colab": {}
      },
      "source": [
        "session.close()"
      ],
      "execution_count": 0,
      "outputs": []
    },
    {
      "cell_type": "code",
      "metadata": {
        "id": "PHPVeitC9n77",
        "colab_type": "code",
        "colab": {}
      },
      "source": [
        ""
      ],
      "execution_count": 0,
      "outputs": []
    },
    {
      "cell_type": "markdown",
      "metadata": {
        "id": "CYaSAvIu2xls",
        "colab_type": "text"
      },
      "source": [
        "### Helper-function for plotting convolutional weights"
      ]
    },
    {
      "cell_type": "code",
      "metadata": {
        "id": "dZEV2yND2xXD",
        "colab_type": "code",
        "colab": {}
      },
      "source": [
        ""
      ],
      "execution_count": 0,
      "outputs": []
    },
    {
      "cell_type": "code",
      "metadata": {
        "id": "HnO3Xz2O2xQ6",
        "colab_type": "code",
        "colab": {}
      },
      "source": [
        ""
      ],
      "execution_count": 0,
      "outputs": []
    },
    {
      "cell_type": "code",
      "metadata": {
        "id": "Dy9TvmV12xNI",
        "colab_type": "code",
        "colab": {}
      },
      "source": [
        ""
      ],
      "execution_count": 0,
      "outputs": []
    },
    {
      "cell_type": "code",
      "metadata": {
        "id": "5oJDAAM02xIW",
        "colab_type": "code",
        "colab": {}
      },
      "source": [
        ""
      ],
      "execution_count": 0,
      "outputs": []
    },
    {
      "cell_type": "code",
      "metadata": {
        "id": "cbBlGXm32xEs",
        "colab_type": "code",
        "colab": {}
      },
      "source": [
        ""
      ],
      "execution_count": 0,
      "outputs": []
    },
    {
      "cell_type": "code",
      "metadata": {
        "id": "iTDPe5PL2xA8",
        "colab_type": "code",
        "colab": {}
      },
      "source": [
        ""
      ],
      "execution_count": 0,
      "outputs": []
    },
    {
      "cell_type": "code",
      "metadata": {
        "id": "ja7r-3xO2wv8",
        "colab_type": "code",
        "colab": {}
      },
      "source": [
        ""
      ],
      "execution_count": 0,
      "outputs": []
    },
    {
      "cell_type": "code",
      "metadata": {
        "id": "nFiPxa-MziqJ",
        "colab_type": "code",
        "colab": {}
      },
      "source": [
        ""
      ],
      "execution_count": 0,
      "outputs": []
    }
  ]
}