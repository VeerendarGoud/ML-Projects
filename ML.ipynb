{
  "nbformat": 4,
  "nbformat_minor": 0,
  "metadata": {
    "colab": {
      "provenance": [],
      "authorship_tag": "ABX9TyOzh9A6osE//IULJaEmGz5W",
      "include_colab_link": true
    },
    "kernelspec": {
      "name": "python3",
      "display_name": "Python 3"
    },
    "language_info": {
      "name": "python"
    }
  },
  "cells": [
    {
      "cell_type": "markdown",
      "metadata": {
        "id": "view-in-github",
        "colab_type": "text"
      },
      "source": [
        "<a href=\"https://colab.research.google.com/github/VeerendarGoud/ML-Projects/blob/master/ML.ipynb\" target=\"_parent\"><img src=\"https://colab.research.google.com/assets/colab-badge.svg\" alt=\"Open In Colab\"/></a>"
      ]
    },
    {
      "cell_type": "markdown",
      "source": [
        "* Linear discriminant analysis (LDA) \n",
        "* Logistic regression\n",
        "* Multinomial logistic regression\n",
        "* Random forests\n",
        "* Greadient boosting trees\n",
        "* Support-vector machines\n",
        "* K-nearest neighbor algorithm"
      ],
      "metadata": {
        "id": "bspvgfisJeC2"
      }
    }
  ]
}